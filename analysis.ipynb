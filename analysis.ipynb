{
 "cells": [
  {
   "cell_type": "code",
   "execution_count": 2,
   "metadata": {
    "collapsed": false,
    "scrolled": true
   },
   "outputs": [
    {
     "name": "stdout",
     "output_type": "stream",
     "text": [
      "\u001b[36m> OEDA configuration: Using elasticsearch database.\u001b[39m\n",
      "0's: 49297\n",
      "1's: 50000\n",
      "2's: 52912\n",
      "3's: 50000\n",
      "4's: 49240\n",
      "6's: 50000\n",
      "8's: 40530\n"
     ]
    }
   ],
   "source": [
    "from rtxlib.rtx_run import setup_database\n",
    "from rtxlib.rtx_run import db\n",
    "from analysis_lib.one_sample_tests import KolmogorovSmirnov\n",
    "from analysis_lib.two_sample_tests import Ttest\n",
    "\n",
    "setup_database()\n",
    "results = db().get_all_data_points()\n",
    "\n",
    "res0 = [res for res in results if res[1][\"route_random_sigma\"]==0]\n",
    "res1 = [res for res in results if res[1][\"route_random_sigma\"]==0.1]\n",
    "res2 = [res for res in results if res[1][\"route_random_sigma\"]==0.2]\n",
    "res3 = [res for res in results if res[1][\"route_random_sigma\"]==0.3]\n",
    "res4 = [res for res in results if res[1][\"route_random_sigma\"]==0.4]\n",
    "res6 = [res for res in results if res[1][\"route_random_sigma\"]==0.6]\n",
    "res8 = [res for res in results if res[1][\"route_random_sigma\"]==0.8]\n",
    "\n",
    "print \"0's: \" + str(len(res0))\n",
    "print \"1's: \" + str(len(res1))\n",
    "print \"2's: \" + str(len(res2))\n",
    "print \"3's: \" + str(len(res3))\n",
    "print \"4's: \" + str(len(res4))\n",
    "print \"6's: \" + str(len(res6))\n",
    "print \"8's: \" + str(len(res8))"
   ]
  },
  {
   "cell_type": "code",
   "execution_count": 2,
   "metadata": {
    "collapsed": false
   },
   "outputs": [
    {
     "name": "stdout",
     "output_type": "stream",
     "text": [
      "length 0: 49297\n"
     ]
    }
   ],
   "source": [
    "    data0 = dict()\n",
    "    knobs0 = dict()\n",
    "    data0[0] = [r[0] for r in res0]\n",
    "    knobs0[0] = [r[1] for r in res0]\n",
    "    print \"length 0: \" + str(len(data0[0]))"
   ]
  },
  {
   "cell_type": "code",
   "execution_count": null,
   "metadata": {
    "collapsed": true
   },
   "outputs": [],
   "source": []
  }
 ],
 "metadata": {
  "anaconda-cloud": {},
  "kernelspec": {
   "display_name": "Python [Root]",
   "language": "python",
   "name": "Python [Root]"
  },
  "language_info": {
   "codemirror_mode": {
    "name": "ipython",
    "version": 2
   },
   "file_extension": ".py",
   "mimetype": "text/x-python",
   "name": "python",
   "nbconvert_exporter": "python",
   "pygments_lexer": "ipython2",
   "version": "2.7.12"
  }
 },
 "nbformat": 4,
 "nbformat_minor": 0
}
