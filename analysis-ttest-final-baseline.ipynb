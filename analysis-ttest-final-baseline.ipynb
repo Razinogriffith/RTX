{
 "cells": [
  {
   "cell_type": "markdown",
   "metadata": {},
   "source": [
    "## Import data"
   ]
  },
  {
   "cell_type": "code",
   "execution_count": 51,
   "metadata": {
    "collapsed": false,
    "scrolled": true
   },
   "outputs": [
    {
     "name": "stdout",
     "output_type": "stream",
     "text": [
      "data retrieved from file rtxgaussian-600-300-baseline-5000.pickle\n"
     ]
    }
   ],
   "source": [
    "%matplotlib inline\n",
    "%reload_ext autoreload\n",
    "from rtxlib.rtx_run import setup_database, db\n",
    "from analysis_lib.one_sample_tests import KolmogorovSmirnov\n",
    "from factorial_anova_analysis import get_raw_data\n",
    "\n",
    "index = \"rtxgaussian-600-300-baseline\" \n",
    "\n",
    "results = get_raw_data(index, False, 5000)"
   ]
  },
  {
   "cell_type": "code",
   "execution_count": 52,
   "metadata": {
    "collapsed": false
   },
   "outputs": [
    {
     "name": "stdout",
     "output_type": "stream",
     "text": [
      "len(knobs):20\n",
      "{u're_route_every_ticks': 10, u'freshness_cut_off_value': 700, u'max_speed_and_length_factor': 1.0, u'exploration_percentage': 0.3, u'freshness_update_factor': 5, u'route_random_sigma': 0.0, u'average_edge_duration_factor': 2.5}\n",
      "5000\n",
      "{u're_route_every_ticks': 10, u'freshness_cut_off_value': 700, u'max_speed_and_length_factor': 2.5, u'exploration_percentage': 0.3, u'freshness_update_factor': 5, u'route_random_sigma': 0.0, u'average_edge_duration_factor': 1.0}\n",
      "5000\n",
      "{u're_route_every_ticks': 70, u'freshness_cut_off_value': 100, u'max_speed_and_length_factor': 1.9724309800135384, u'exploration_percentage': 0.22166267566255865, u'freshness_update_factor': 5, u'route_random_sigma': 0.2883256763888628, u'average_edge_duration_factor': 1.8526844399671079}\n",
      "5000\n",
      "{u're_route_every_ticks': 10, u'freshness_cut_off_value': 100, u'max_speed_and_length_factor': 1.9993660358635545, u'exploration_percentage': 0.10784601253398841, u'freshness_update_factor': 5, u'route_random_sigma': 0.1903387192918321, u'average_edge_duration_factor': 1.71502183284706}\n",
      "5000\n",
      "{u're_route_every_ticks': 10, u'freshness_cut_off_value': 100, u'max_speed_and_length_factor': 1.0, u'exploration_percentage': 0.3, u'freshness_update_factor': 20, u'route_random_sigma': 0.0, u'average_edge_duration_factor': 1.0}\n",
      "5000\n",
      "{u're_route_every_ticks': 10, u'freshness_cut_off_value': 700, u'max_speed_and_length_factor': 1.0991999169922038, u'exploration_percentage': 0.2497328425036302, u'freshness_update_factor': 20, u'route_random_sigma': 0.17510200583598043, u'average_edge_duration_factor': 1.2467019184321946}\n",
      "5000\n",
      "{u're_route_every_ticks': 70, u'freshness_cut_off_value': 100, u'max_speed_and_length_factor': 2.5, u'exploration_percentage': 0.0, u'freshness_update_factor': 5, u'route_random_sigma': 0.0, u'average_edge_duration_factor': 2.5}\n",
      "5000\n",
      "{u're_route_every_ticks': 10, u'freshness_cut_off_value': 700, u'max_speed_and_length_factor': 2.5, u'exploration_percentage': 0.0, u'freshness_update_factor': 5, u'route_random_sigma': 0.0, u'average_edge_duration_factor': 1.0}\n",
      "5000\n",
      "{u're_route_every_ticks': 10, u'freshness_cut_off_value': 700, u'max_speed_and_length_factor': 1.0, u'exploration_percentage': 0.0, u'freshness_update_factor': 5, u'route_random_sigma': 0.3, u'average_edge_duration_factor': 1.0}\n",
      "5000\n",
      "{u're_route_every_ticks': 10, u'freshness_cut_off_value': 700, u'max_speed_and_length_factor': 2.5, u'exploration_percentage': 0.0, u'freshness_update_factor': 5, u'route_random_sigma': 0.3, u'average_edge_duration_factor': 1.0}\n",
      "5000\n",
      "{u're_route_every_ticks': 10, u'freshness_cut_off_value': 100, u'max_speed_and_length_factor': 2.061220086622701, u'exploration_percentage': 0.026714875733266256, u'freshness_update_factor': 20, u'route_random_sigma': 0.19185063403088864, u'average_edge_duration_factor': 2.4756250630703214}\n",
      "5000\n",
      "{u're_route_every_ticks': 10, u'freshness_cut_off_value': 700, u'max_speed_and_length_factor': 1.0, u'exploration_percentage': 0.3, u'freshness_update_factor': 17, u'route_random_sigma': 0.0, u'average_edge_duration_factor': 1.2530626747758273}\n",
      "5000\n",
      "{u're_route_every_ticks': 10, u'freshness_cut_off_value': 100, u'max_speed_and_length_factor': 1.0, u'exploration_percentage': 0.3, u'freshness_update_factor': 5, u'route_random_sigma': 0.3, u'average_edge_duration_factor': 1.0}\n",
      "5000\n",
      "{u're_route_every_ticks': 10, u'freshness_cut_off_value': 700, u'max_speed_and_length_factor': 1.0, u'exploration_percentage': 0.0, u'freshness_update_factor': 5, u'route_random_sigma': 0.0, u'average_edge_duration_factor': 2.5}\n",
      "5000\n",
      "{u're_route_every_ticks': 10, u'freshness_cut_off_value': 100, u'max_speed_and_length_factor': 1.0, u'exploration_percentage': 0.0, u'freshness_update_factor': 5, u'route_random_sigma': 0.0, u'average_edge_duration_factor': 1.0}\n",
      "5000\n",
      "{u're_route_every_ticks': 10, u'freshness_cut_off_value': 632, u'max_speed_and_length_factor': 1.0, u'exploration_percentage': 0.15700023908873034, u'freshness_update_factor': 6, u'route_random_sigma': 0.2585412258729002, u'average_edge_duration_factor': 1.209267495740946}\n",
      "5000\n",
      "{u're_route_every_ticks': 10, u'freshness_cut_off_value': 100, u'max_speed_and_length_factor': 2.5, u'exploration_percentage': 0.3, u'freshness_update_factor': 5, u'route_random_sigma': 0.0, u'average_edge_duration_factor': 1.0}\n",
      "5000\n",
      "{u're_route_every_ticks': 23, u'freshness_cut_off_value': 526, u'max_speed_and_length_factor': 1.8211052893939026, u'exploration_percentage': 0.12506611704708362, u'freshness_update_factor': 9, u'route_random_sigma': 0.13696020363469905, u'average_edge_duration_factor': 1.967748623941256}\n",
      "5000\n",
      "{u're_route_every_ticks': 10, u'freshness_cut_off_value': 700, u'max_speed_and_length_factor': 1.0, u'exploration_percentage': 0.3, u'freshness_update_factor': 5, u'route_random_sigma': 0.0, u'average_edge_duration_factor': 1.0}\n",
      "5000\n",
      "{u're_route_every_ticks': 70, u'freshness_cut_off_value': 100, u'max_speed_and_length_factor': 1.0, u'exploration_percentage': 0.3, u'freshness_update_factor': 20, u'route_random_sigma': 0.0, u'average_edge_duration_factor': 1.0}\n",
      "5000\n",
      "=========\n"
     ]
    }
   ],
   "source": [
    "import pprint\n",
    "pp = pprint.PrettyPrinter(indent=4)\n",
    "\n",
    "knobs = {}\n",
    "data = {}\n",
    "for r in results:\n",
    "    knob_str = str(r[1])\n",
    "    if not knob_str in knobs:        \n",
    "        knobs[knob_str] = []\n",
    "    if len(knobs[knob_str]) < 5000:\n",
    "        knobs[knob_str].append(r[1])\n",
    "    if not knob_str in data:        \n",
    "        data[knob_str] = []\n",
    "    if len(data[knob_str]) < 5000:\n",
    "        data[knob_str].append(r[0])\n",
    "\n",
    "\n",
    "print \"len(knobs):\" + str(len(knobs))\n",
    "\n",
    "for k in knobs:\n",
    "    print k\n",
    "    print len(knobs[k])\n",
    "\n",
    "print \"=========\""
   ]
  },
  {
   "cell_type": "markdown",
   "metadata": {},
   "source": [
    "## Ttests with variable sample sizes"
   ]
  },
  {
   "cell_type": "code",
   "execution_count": 57,
   "metadata": {
    "collapsed": false
   },
   "outputs": [
    {
     "data": {
      "text/markdown": [
       "<span style='color:green'>**SIGNIFICANT DIFFERENCE**</span>"
      ],
      "text/plain": [
       "<IPython.core.display.Markdown object>"
      ]
     },
     "metadata": {},
     "output_type": "display_data"
    },
    {
     "name": "stdout",
     "output_type": "stream",
     "text": [
      "sample size: 100\n",
      "================\n",
      "Overhead in \n",
      "{   u'average_edge_duration_factor': 1.0,\n",
      "    u'exploration_percentage': 0.0,\n",
      "    u'freshness_cut_off_value': 100,\n",
      "    u'freshness_update_factor': 5,\n",
      "    u'max_speed_and_length_factor': 1.0,\n",
      "    u're_route_every_ticks': 10,\n",
      "    u'route_random_sigma': 0.0}\n",
      " is smaller than in \n",
      "{   u'average_edge_duration_factor': 1.0,\n",
      "    u'exploration_percentage': 0.3,\n",
      "    u'freshness_cut_off_value': 100,\n",
      "    u'freshness_update_factor': 20,\n",
      "    u'max_speed_and_length_factor': 1.0,\n",
      "    u're_route_every_ticks': 10,\n",
      "    u'route_random_sigma': 0.0}\n",
      "================\n",
      "mean difference: -0.733624299293\n",
      "p value: 1.90688817784e-09\n",
      "effect size: -0.886145624588\n",
      "power: 0.999999999815\n",
      "\n",
      "\n"
     ]
    },
    {
     "data": {
      "text/markdown": [
       "<span style='color:green'>**SIGNIFICANT DIFFERENCE**</span>"
      ],
      "text/plain": [
       "<IPython.core.display.Markdown object>"
      ]
     },
     "metadata": {},
     "output_type": "display_data"
    },
    {
     "name": "stdout",
     "output_type": "stream",
     "text": [
      "sample size: 300\n",
      "================\n",
      "Overhead in \n",
      "{   u'average_edge_duration_factor': 1.0,\n",
      "    u'exploration_percentage': 0.0,\n",
      "    u'freshness_cut_off_value': 100,\n",
      "    u'freshness_update_factor': 5,\n",
      "    u'max_speed_and_length_factor': 1.0,\n",
      "    u're_route_every_ticks': 10,\n",
      "    u'route_random_sigma': 0.0}\n",
      " is smaller than in \n",
      "{   u'average_edge_duration_factor': 1.0,\n",
      "    u'exploration_percentage': 0.3,\n",
      "    u'freshness_cut_off_value': 100,\n",
      "    u'freshness_update_factor': 5,\n",
      "    u'max_speed_and_length_factor': 1.0,\n",
      "    u're_route_every_ticks': 10,\n",
      "    u'route_random_sigma': 0.3}\n",
      "================\n",
      "mean difference: -0.225512305402\n",
      "p value: 0.00105628614801\n",
      "effect size: -0.252601029214\n",
      "power: 0.925821900653\n",
      "\n",
      "\n"
     ]
    },
    {
     "data": {
      "text/markdown": [
       "<span style='color:green'>**SIGNIFICANT DIFFERENCE**</span>"
      ],
      "text/plain": [
       "<IPython.core.display.Markdown object>"
      ]
     },
     "metadata": {},
     "output_type": "display_data"
    },
    {
     "name": "stdout",
     "output_type": "stream",
     "text": [
      "sample size: 1500\n",
      "================\n",
      "Overhead in \n",
      "{   u'average_edge_duration_factor': 1.0,\n",
      "    u'exploration_percentage': 0.0,\n",
      "    u'freshness_cut_off_value': 100,\n",
      "    u'freshness_update_factor': 5,\n",
      "    u'max_speed_and_length_factor': 1.0,\n",
      "    u're_route_every_ticks': 10,\n",
      "    u'route_random_sigma': 0.0}\n",
      " is smaller than in \n",
      "{   u'average_edge_duration_factor': 1.71502183284706,\n",
      "    u'exploration_percentage': 0.10784601253398841,\n",
      "    u'freshness_cut_off_value': 100,\n",
      "    u'freshness_update_factor': 5,\n",
      "    u'max_speed_and_length_factor': 1.9993660358635545,\n",
      "    u're_route_every_ticks': 10,\n",
      "    u'route_random_sigma': 0.1903387192918321}\n",
      "================\n",
      "mean difference: -0.0754580028155\n",
      "p value: 0.0050793957707\n",
      "effect size: -0.0939486036596\n",
      "power: 0.823154633194\n",
      "\n",
      "\n"
     ]
    },
    {
     "data": {
      "text/markdown": [
       "<span style='color:green'>**SIGNIFICANT DIFFERENCE**</span>"
      ],
      "text/plain": [
       "<IPython.core.display.Markdown object>"
      ]
     },
     "metadata": {},
     "output_type": "display_data"
    },
    {
     "name": "stdout",
     "output_type": "stream",
     "text": [
      "sample size: 600\n",
      "================\n",
      "Overhead in \n",
      "{   u'average_edge_duration_factor': 1.0,\n",
      "    u'exploration_percentage': 0.0,\n",
      "    u'freshness_cut_off_value': 100,\n",
      "    u'freshness_update_factor': 5,\n",
      "    u'max_speed_and_length_factor': 1.0,\n",
      "    u're_route_every_ticks': 10,\n",
      "    u'route_random_sigma': 0.0}\n",
      " is smaller than in \n",
      "{   u'average_edge_duration_factor': 2.4756250630703214,\n",
      "    u'exploration_percentage': 0.026714875733266256,\n",
      "    u'freshness_cut_off_value': 100,\n",
      "    u'freshness_update_factor': 20,\n",
      "    u'max_speed_and_length_factor': 2.061220086622701,\n",
      "    u're_route_every_ticks': 10,\n",
      "    u'route_random_sigma': 0.19185063403088864}\n",
      "================\n",
      "mean difference: -0.109648762176\n",
      "p value: 0.00426932833663\n",
      "effect size: -0.152227622\n",
      "power: 0.838990389634\n",
      "\n",
      "\n"
     ]
    },
    {
     "data": {
      "text/markdown": [
       "<span style='color:green'>**SIGNIFICANT DIFFERENCE**</span>"
      ],
      "text/plain": [
       "<IPython.core.display.Markdown object>"
      ]
     },
     "metadata": {},
     "output_type": "display_data"
    },
    {
     "name": "stdout",
     "output_type": "stream",
     "text": [
      "sample size: 1900\n",
      "================\n",
      "Overhead in \n",
      "{   u'average_edge_duration_factor': 1.0,\n",
      "    u'exploration_percentage': 0.0,\n",
      "    u'freshness_cut_off_value': 100,\n",
      "    u'freshness_update_factor': 5,\n",
      "    u'max_speed_and_length_factor': 1.0,\n",
      "    u're_route_every_ticks': 10,\n",
      "    u'route_random_sigma': 0.0}\n",
      " is smaller than in \n",
      "{   u'average_edge_duration_factor': 1.0,\n",
      "    u'exploration_percentage': 0.3,\n",
      "    u'freshness_cut_off_value': 100,\n",
      "    u'freshness_update_factor': 5,\n",
      "    u'max_speed_and_length_factor': 2.5,\n",
      "    u're_route_every_ticks': 10,\n",
      "    u'route_random_sigma': 0.0}\n",
      "================\n",
      "mean difference: -0.0833066776393\n",
      "p value: 0.000408541811766\n",
      "effect size: -0.108705379782\n",
      "power: 0.955909720862\n",
      "\n",
      "\n"
     ]
    },
    {
     "data": {
      "text/markdown": [
       "<span style='color:green'>**SIGNIFICANT DIFFERENCE**</span>"
      ],
      "text/plain": [
       "<IPython.core.display.Markdown object>"
      ]
     },
     "metadata": {},
     "output_type": "display_data"
    },
    {
     "name": "stdout",
     "output_type": "stream",
     "text": [
      "sample size: 700\n",
      "================\n",
      "Overhead in \n",
      "{   u'average_edge_duration_factor': 1.0,\n",
      "    u'exploration_percentage': 0.0,\n",
      "    u'freshness_cut_off_value': 100,\n",
      "    u'freshness_update_factor': 5,\n",
      "    u'max_speed_and_length_factor': 1.0,\n",
      "    u're_route_every_ticks': 10,\n",
      "    u'route_random_sigma': 0.0}\n",
      " is larger than in \n",
      "{   u'average_edge_duration_factor': 1.209267495740946,\n",
      "    u'exploration_percentage': 0.15700023908873034,\n",
      "    u'freshness_cut_off_value': 632,\n",
      "    u'freshness_update_factor': 6,\n",
      "    u'max_speed_and_length_factor': 1.0,\n",
      "    u're_route_every_ticks': 10,\n",
      "    u'route_random_sigma': 0.2585412258729002}\n",
      "================\n",
      "mean difference: 0.138848374753\n",
      "p value: 4.65096894052e-05\n",
      "effect size: 0.209720155735\n",
      "power: 0.988599467387\n",
      "\n",
      "\n"
     ]
    },
    {
     "data": {
      "text/markdown": [
       "<span style='color:green'>**SIGNIFICANT DIFFERENCE**</span>"
      ],
      "text/plain": [
       "<IPython.core.display.Markdown object>"
      ]
     },
     "metadata": {},
     "output_type": "display_data"
    },
    {
     "name": "stdout",
     "output_type": "stream",
     "text": [
      "sample size: 400\n",
      "================\n",
      "Overhead in \n",
      "{   u'average_edge_duration_factor': 1.209267495740946,\n",
      "    u'exploration_percentage': 0.15700023908873034,\n",
      "    u'freshness_cut_off_value': 632,\n",
      "    u'freshness_update_factor': 6,\n",
      "    u'max_speed_and_length_factor': 1.0,\n",
      "    u're_route_every_ticks': 10,\n",
      "    u'route_random_sigma': 0.2585412258729002}\n",
      " is smaller than in \n",
      "{   u'average_edge_duration_factor': 2.5,\n",
      "    u'exploration_percentage': 0.0,\n",
      "    u'freshness_cut_off_value': 700,\n",
      "    u'freshness_update_factor': 5,\n",
      "    u'max_speed_and_length_factor': 1.0,\n",
      "    u're_route_every_ticks': 10,\n",
      "    u'route_random_sigma': 0.0}\n",
      "================\n",
      "mean difference: -0.161896965412\n",
      "p value: 0.000862237386155\n",
      "effect size: -0.222750558966\n",
      "power: 0.933534432261\n",
      "\n",
      "\n"
     ]
    },
    {
     "data": {
      "text/markdown": [
       "<span style='color:green'>**SIGNIFICANT DIFFERENCE**</span>"
      ],
      "text/plain": [
       "<IPython.core.display.Markdown object>"
      ]
     },
     "metadata": {},
     "output_type": "display_data"
    },
    {
     "name": "stdout",
     "output_type": "stream",
     "text": [
      "sample size: 2600\n",
      "================\n",
      "Overhead in \n",
      "{   u'average_edge_duration_factor': 1.209267495740946,\n",
      "    u'exploration_percentage': 0.15700023908873034,\n",
      "    u'freshness_cut_off_value': 632,\n",
      "    u'freshness_update_factor': 6,\n",
      "    u'max_speed_and_length_factor': 1.0,\n",
      "    u're_route_every_ticks': 10,\n",
      "    u'route_random_sigma': 0.2585412258729002}\n",
      " is smaller than in \n",
      "{   u'average_edge_duration_factor': 1.0,\n",
      "    u'exploration_percentage': 0.0,\n",
      "    u'freshness_cut_off_value': 700,\n",
      "    u'freshness_update_factor': 5,\n",
      "    u'max_speed_and_length_factor': 1.0,\n",
      "    u're_route_every_ticks': 10,\n",
      "    u'route_random_sigma': 0.3}\n",
      "================\n",
      "mean difference: -0.0578384455945\n",
      "p value: 0.00143391273305\n",
      "effect size: -0.0827523246471\n",
      "power: 0.909622748485\n",
      "\n",
      "\n"
     ]
    },
    {
     "data": {
      "text/markdown": [
       "<span style='color:green'>**SIGNIFICANT DIFFERENCE**</span>"
      ],
      "text/plain": [
       "<IPython.core.display.Markdown object>"
      ]
     },
     "metadata": {},
     "output_type": "display_data"
    },
    {
     "name": "stdout",
     "output_type": "stream",
     "text": [
      "sample size: 500\n",
      "================\n",
      "Overhead in \n",
      "{   u'average_edge_duration_factor': 1.209267495740946,\n",
      "    u'exploration_percentage': 0.15700023908873034,\n",
      "    u'freshness_cut_off_value': 632,\n",
      "    u'freshness_update_factor': 6,\n",
      "    u'max_speed_and_length_factor': 1.0,\n",
      "    u're_route_every_ticks': 10,\n",
      "    u'route_random_sigma': 0.2585412258729002}\n",
      " is smaller than in \n",
      "{   u'average_edge_duration_factor': 1.2530626747758273,\n",
      "    u'exploration_percentage': 0.3,\n",
      "    u'freshness_cut_off_value': 700,\n",
      "    u'freshness_update_factor': 17,\n",
      "    u'max_speed_and_length_factor': 1.0,\n",
      "    u're_route_every_ticks': 10,\n",
      "    u'route_random_sigma': 0.0}\n",
      "================\n",
      "mean difference: -0.104180226852\n",
      "p value: 0.00609199279332\n",
      "effect size: -0.159005605974\n",
      "power: 0.807177221054\n",
      "\n",
      "\n"
     ]
    },
    {
     "data": {
      "text/markdown": [
       "<span style='color:green'>**SIGNIFICANT DIFFERENCE**</span>"
      ],
      "text/plain": [
       "<IPython.core.display.Markdown object>"
      ]
     },
     "metadata": {},
     "output_type": "display_data"
    },
    {
     "name": "stdout",
     "output_type": "stream",
     "text": [
      "sample size: 1800\n",
      "================\n",
      "Overhead in \n",
      "{   u'average_edge_duration_factor': 1.209267495740946,\n",
      "    u'exploration_percentage': 0.15700023908873034,\n",
      "    u'freshness_cut_off_value': 632,\n",
      "    u'freshness_update_factor': 6,\n",
      "    u'max_speed_and_length_factor': 1.0,\n",
      "    u're_route_every_ticks': 10,\n",
      "    u'route_random_sigma': 0.2585412258729002}\n",
      " is smaller than in \n",
      "{   u'average_edge_duration_factor': 1.0,\n",
      "    u'exploration_percentage': 0.3,\n",
      "    u'freshness_cut_off_value': 700,\n",
      "    u'freshness_update_factor': 5,\n",
      "    u'max_speed_and_length_factor': 1.0,\n",
      "    u're_route_every_ticks': 10,\n",
      "    u'route_random_sigma': 0.0}\n",
      "================\n",
      "mean difference: -0.0662406412374\n",
      "p value: 0.00181025735922\n",
      "effect size: -0.0970767685097\n",
      "power: 0.897404806684\n",
      "\n",
      "\n"
     ]
    },
    {
     "data": {
      "text/markdown": [
       "<span style='color:green'>**SIGNIFICANT DIFFERENCE**</span>"
      ],
      "text/plain": [
       "<IPython.core.display.Markdown object>"
      ]
     },
     "metadata": {},
     "output_type": "display_data"
    },
    {
     "name": "stdout",
     "output_type": "stream",
     "text": [
      "sample size: 1100\n",
      "================\n",
      "Overhead in \n",
      "{   u'average_edge_duration_factor': 1.209267495740946,\n",
      "    u'exploration_percentage': 0.15700023908873034,\n",
      "    u'freshness_cut_off_value': 632,\n",
      "    u'freshness_update_factor': 6,\n",
      "    u'max_speed_and_length_factor': 1.0,\n",
      "    u're_route_every_ticks': 10,\n",
      "    u'route_random_sigma': 0.2585412258729002}\n",
      " is smaller than in \n",
      "{   u'average_edge_duration_factor': 2.5,\n",
      "    u'exploration_percentage': 0.3,\n",
      "    u'freshness_cut_off_value': 700,\n",
      "    u'freshness_update_factor': 5,\n",
      "    u'max_speed_and_length_factor': 1.0,\n",
      "    u're_route_every_ticks': 10,\n",
      "    u'route_random_sigma': 0.0}\n",
      "================\n",
      "mean difference: -0.0924210918261\n",
      "p value: 0.00173201869613\n",
      "effect size: -0.124863957533\n",
      "power: 0.900177634103\n",
      "\n",
      "\n"
     ]
    },
    {
     "data": {
      "text/markdown": [
       "<span style='color:red'>**NO SIGNIFICANT DIFFERENCE**</span>"
      ],
      "text/plain": [
       "<IPython.core.display.Markdown object>"
      ]
     },
     "metadata": {},
     "output_type": "display_data"
    },
    {
     "name": "stdout",
     "output_type": "stream",
     "text": [
      "sample size: 5000\n",
      "================\n",
      "Overhead in \n",
      "{   u'average_edge_duration_factor': 1.209267495740946,\n",
      "    u'exploration_percentage': 0.15700023908873034,\n",
      "    u'freshness_cut_off_value': 632,\n",
      "    u'freshness_update_factor': 6,\n",
      "    u'max_speed_and_length_factor': 1.0,\n",
      "    u're_route_every_ticks': 10,\n",
      "    u'route_random_sigma': 0.2585412258729002}\n",
      " is smaller than in \n",
      "{   u'average_edge_duration_factor': 1.2467019184321946,\n",
      "    u'exploration_percentage': 0.2497328425036302,\n",
      "    u'freshness_cut_off_value': 700,\n",
      "    u'freshness_update_factor': 20,\n",
      "    u'max_speed_and_length_factor': 1.0991999169922038,\n",
      "    u're_route_every_ticks': 10,\n",
      "    u'route_random_sigma': 0.17510200583598043}\n",
      "================\n",
      "mean difference: -0.00707148407033\n",
      "p value: 0.282217199459\n",
      "effect size: -0.0115268865786\n",
      "power: 0.142636630252\n",
      "\n",
      "\n"
     ]
    },
    {
     "data": {
      "text/markdown": [
       "<span style='color:green'>**SIGNIFICANT DIFFERENCE**</span>"
      ],
      "text/plain": [
       "<IPython.core.display.Markdown object>"
      ]
     },
     "metadata": {},
     "output_type": "display_data"
    },
    {
     "name": "stdout",
     "output_type": "stream",
     "text": [
      "sample size: 600\n",
      "================\n",
      "Overhead in \n",
      "{   u'average_edge_duration_factor': 1.209267495740946,\n",
      "    u'exploration_percentage': 0.15700023908873034,\n",
      "    u'freshness_cut_off_value': 632,\n",
      "    u'freshness_update_factor': 6,\n",
      "    u'max_speed_and_length_factor': 1.0,\n",
      "    u're_route_every_ticks': 10,\n",
      "    u'route_random_sigma': 0.2585412258729002}\n",
      " is smaller than in \n",
      "{   u'average_edge_duration_factor': 1.0,\n",
      "    u'exploration_percentage': 0.0,\n",
      "    u'freshness_cut_off_value': 700,\n",
      "    u'freshness_update_factor': 5,\n",
      "    u'max_speed_and_length_factor': 2.5,\n",
      "    u're_route_every_ticks': 10,\n",
      "    u'route_random_sigma': 0.0}\n",
      "================\n",
      "mean difference: -0.112293764346\n",
      "p value: 0.0051308599142\n",
      "effect size: -0.148589175138\n",
      "power: 0.823123114415\n",
      "\n",
      "\n"
     ]
    },
    {
     "data": {
      "text/markdown": [
       "<span style='color:green'>**SIGNIFICANT DIFFERENCE**</span>"
      ],
      "text/plain": [
       "<IPython.core.display.Markdown object>"
      ]
     },
     "metadata": {},
     "output_type": "display_data"
    },
    {
     "name": "stdout",
     "output_type": "stream",
     "text": [
      "sample size: 500\n",
      "================\n",
      "Overhead in \n",
      "{   u'average_edge_duration_factor': 1.209267495740946,\n",
      "    u'exploration_percentage': 0.15700023908873034,\n",
      "    u'freshness_cut_off_value': 632,\n",
      "    u'freshness_update_factor': 6,\n",
      "    u'max_speed_and_length_factor': 1.0,\n",
      "    u're_route_every_ticks': 10,\n",
      "    u'route_random_sigma': 0.2585412258729002}\n",
      " is smaller than in \n",
      "{   u'average_edge_duration_factor': 1.0,\n",
      "    u'exploration_percentage': 0.0,\n",
      "    u'freshness_cut_off_value': 700,\n",
      "    u'freshness_update_factor': 5,\n",
      "    u'max_speed_and_length_factor': 2.5,\n",
      "    u're_route_every_ticks': 10,\n",
      "    u'route_random_sigma': 0.3}\n",
      "================\n",
      "mean difference: -0.205255999209\n",
      "p value: 0.000860476400898\n",
      "effect size: -0.199275365476\n",
      "power: 0.933687408076\n",
      "\n",
      "\n"
     ]
    },
    {
     "data": {
      "text/markdown": [
       "<span style='color:red'>**NO SIGNIFICANT DIFFERENCE**</span>"
      ],
      "text/plain": [
       "<IPython.core.display.Markdown object>"
      ]
     },
     "metadata": {},
     "output_type": "display_data"
    },
    {
     "name": "stdout",
     "output_type": "stream",
     "text": [
      "sample size: 5000\n",
      "================\n",
      "Overhead in \n",
      "{   u'average_edge_duration_factor': 1.209267495740946,\n",
      "    u'exploration_percentage': 0.15700023908873034,\n",
      "    u'freshness_cut_off_value': 632,\n",
      "    u'freshness_update_factor': 6,\n",
      "    u'max_speed_and_length_factor': 1.0,\n",
      "    u're_route_every_ticks': 10,\n",
      "    u'route_random_sigma': 0.2585412258729002}\n",
      " is smaller than in \n",
      "{   u'average_edge_duration_factor': 1.0,\n",
      "    u'exploration_percentage': 0.3,\n",
      "    u'freshness_cut_off_value': 700,\n",
      "    u'freshness_update_factor': 5,\n",
      "    u'max_speed_and_length_factor': 2.5,\n",
      "    u're_route_every_ticks': 10,\n",
      "    u'route_random_sigma': 0.0}\n",
      "================\n",
      "mean difference: -0.0141333832346\n",
      "p value: 0.160850657696\n",
      "effect size: -0.0198223971522\n",
      "power: 0.256620068845\n",
      "\n",
      "\n"
     ]
    },
    {
     "data": {
      "text/markdown": [
       "<span style='color:green'>**SIGNIFICANT DIFFERENCE**</span>"
      ],
      "text/plain": [
       "<IPython.core.display.Markdown object>"
      ]
     },
     "metadata": {},
     "output_type": "display_data"
    },
    {
     "name": "stdout",
     "output_type": "stream",
     "text": [
      "sample size: 500\n",
      "================\n",
      "Overhead in \n",
      "{   u'average_edge_duration_factor': 1.209267495740946,\n",
      "    u'exploration_percentage': 0.15700023908873034,\n",
      "    u'freshness_cut_off_value': 632,\n",
      "    u'freshness_update_factor': 6,\n",
      "    u'max_speed_and_length_factor': 1.0,\n",
      "    u're_route_every_ticks': 10,\n",
      "    u'route_random_sigma': 0.2585412258729002}\n",
      " is smaller than in \n",
      "{   u'average_edge_duration_factor': 1.967748623941256,\n",
      "    u'exploration_percentage': 0.12506611704708362,\n",
      "    u'freshness_cut_off_value': 526,\n",
      "    u'freshness_update_factor': 9,\n",
      "    u'max_speed_and_length_factor': 1.8211052893939026,\n",
      "    u're_route_every_ticks': 23,\n",
      "    u'route_random_sigma': 0.13696020363469905}\n",
      "================\n",
      "mean difference: -0.118025254135\n",
      "p value: 0.00185032822303\n",
      "effect size: -0.184205288816\n",
      "power: 0.897192036806\n",
      "\n",
      "\n"
     ]
    },
    {
     "data": {
      "text/markdown": [
       "<span style='color:green'>**SIGNIFICANT DIFFERENCE**</span>"
      ],
      "text/plain": [
       "<IPython.core.display.Markdown object>"
      ]
     },
     "metadata": {},
     "output_type": "display_data"
    },
    {
     "name": "stdout",
     "output_type": "stream",
     "text": [
      "sample size: 100\n",
      "================\n",
      "Overhead in \n",
      "{   u'average_edge_duration_factor': 1.209267495740946,\n",
      "    u'exploration_percentage': 0.15700023908873034,\n",
      "    u'freshness_cut_off_value': 632,\n",
      "    u'freshness_update_factor': 6,\n",
      "    u'max_speed_and_length_factor': 1.0,\n",
      "    u're_route_every_ticks': 10,\n",
      "    u'route_random_sigma': 0.2585412258729002}\n",
      " is smaller than in \n",
      "{   u'average_edge_duration_factor': 1.0,\n",
      "    u'exploration_percentage': 0.3,\n",
      "    u'freshness_cut_off_value': 100,\n",
      "    u'freshness_update_factor': 20,\n",
      "    u'max_speed_and_length_factor': 1.0,\n",
      "    u're_route_every_ticks': 70,\n",
      "    u'route_random_sigma': 0.0}\n",
      "================\n",
      "mean difference: -1.06008341239\n",
      "p value: 0.000103896151275\n",
      "effect size: -0.54626230531\n",
      "power: 0.986257472966\n",
      "\n",
      "\n"
     ]
    },
    {
     "data": {
      "text/markdown": [
       "<span style='color:green'>**SIGNIFICANT DIFFERENCE**</span>"
      ],
      "text/plain": [
       "<IPython.core.display.Markdown object>"
      ]
     },
     "metadata": {},
     "output_type": "display_data"
    },
    {
     "name": "stdout",
     "output_type": "stream",
     "text": [
      "sample size: 300\n",
      "================\n",
      "Overhead in \n",
      "{   u'average_edge_duration_factor': 1.209267495740946,\n",
      "    u'exploration_percentage': 0.15700023908873034,\n",
      "    u'freshness_cut_off_value': 632,\n",
      "    u'freshness_update_factor': 6,\n",
      "    u'max_speed_and_length_factor': 1.0,\n",
      "    u're_route_every_ticks': 10,\n",
      "    u'route_random_sigma': 0.2585412258729002}\n",
      " is smaller than in \n",
      "{   u'average_edge_duration_factor': 1.8526844399671079,\n",
      "    u'exploration_percentage': 0.22166267566255865,\n",
      "    u'freshness_cut_off_value': 100,\n",
      "    u'freshness_update_factor': 5,\n",
      "    u'max_speed_and_length_factor': 1.9724309800135384,\n",
      "    u're_route_every_ticks': 70,\n",
      "    u'route_random_sigma': 0.2883256763888628}\n",
      "================\n",
      "mean difference: -0.15052923573\n",
      "p value: 0.00412733186786\n",
      "effect size: -0.216817874124\n",
      "power: 0.84317830243\n",
      "\n",
      "\n"
     ]
    },
    {
     "data": {
      "text/markdown": [
       "<span style='color:green'>**SIGNIFICANT DIFFERENCE**</span>"
      ],
      "text/plain": [
       "<IPython.core.display.Markdown object>"
      ]
     },
     "metadata": {},
     "output_type": "display_data"
    },
    {
     "name": "stdout",
     "output_type": "stream",
     "text": [
      "sample size: 400\n",
      "================\n",
      "Overhead in \n",
      "{   u'average_edge_duration_factor': 1.209267495740946,\n",
      "    u'exploration_percentage': 0.15700023908873034,\n",
      "    u'freshness_cut_off_value': 632,\n",
      "    u'freshness_update_factor': 6,\n",
      "    u'max_speed_and_length_factor': 1.0,\n",
      "    u're_route_every_ticks': 10,\n",
      "    u'route_random_sigma': 0.2585412258729002}\n",
      " is smaller than in \n",
      "{   u'average_edge_duration_factor': 2.5,\n",
      "    u'exploration_percentage': 0.0,\n",
      "    u'freshness_cut_off_value': 100,\n",
      "    u'freshness_update_factor': 5,\n",
      "    u'max_speed_and_length_factor': 2.5,\n",
      "    u're_route_every_ticks': 70,\n",
      "    u'route_random_sigma': 0.0}\n",
      "================\n",
      "mean difference: -0.15988482992\n",
      "p value: 0.00153905566137\n",
      "effect size: -0.210331193728\n",
      "power: 0.907771423911\n",
      "\n",
      "\n",
      "17 out of 19 comparisons found significant diffference.\n",
      "******************\n",
      "BEST CONFIGURATION\n",
      "******************\n",
      "{   u'average_edge_duration_factor': 1.209267495740946,\n",
      "    u'exploration_percentage': 0.15700023908873034,\n",
      "    u'freshness_cut_off_value': 632,\n",
      "    u'freshness_update_factor': 6,\n",
      "    u'max_speed_and_length_factor': 1.0,\n",
      "    u're_route_every_ticks': 10,\n",
      "    u'route_random_sigma': 0.2585412258729002}\n"
     ]
    }
   ],
   "source": [
    "from analysis_lib.two_sample_tests import Ttest\n",
    "from analysis_lib.two_sample_tests import TtestPower\n",
    "from complaints_generator import generate_complaints\n",
    "from scipy.stats import binom_test\n",
    "import matplotlib as mpl\n",
    "import matplotlib.pyplot as plt\n",
    "mpl.rc(\"savefig\", dpi=150)\n",
    "import random \n",
    "from IPython.display import Markdown, display\n",
    "\n",
    "def printmd(string, color=None):\n",
    "    colorstr = \"<span style='color:{}'>{}</span>\".format(color, string)\n",
    "    display(Markdown(colorstr))\n",
    "    \n",
    "color = {\n",
    "    \"PURPLE\": '\\033[95m',\n",
    "    \"CYAN\": '\\033[96m',\n",
    "    \"DARKCYAN\": '\\033[36m',\n",
    "    \"BLUE\": '\\033[94m',\n",
    "    \"GREEN\": '\\033[92m',\n",
    "    \"YELLOW\": '\\033[93m',\n",
    "    \"RED\": '\\033[91m',\n",
    "    \"BOLD\": '\\033[1m',\n",
    "    \"UNDERLINE\": '\\033[4m',\n",
    "    \"END\": '\\033[0m',\n",
    "}\n",
    "    \n",
    "random.seed(123456)\n",
    "\n",
    "y_key = 'overhead'\n",
    "alpha = 0.05\n",
    "necessary_power = 0.80\n",
    "\n",
    "fake_run_id = \"123456\"\n",
    "\n",
    "knob_values = sorted(knobs.keys())\n",
    "best_knob = knob_values[0]\n",
    "other_knob_values = knob_values[1:] \n",
    "\n",
    "sample_sizes = []\n",
    "pvalues = {}\n",
    "powers = {}\n",
    "\n",
    "for i in knob_values:\n",
    "    pvalues[i] = []\n",
    "    powers[i] = []\n",
    "        \n",
    "step = 100\n",
    "\n",
    "count = 0\n",
    "for other_knob_value in other_knob_values:   \n",
    "    for sample_size in range(100, 5001, step):\n",
    "    #     print \"Sample size: \" + str(sample_size)\n",
    "        sample_sizes.append(sample_size)\n",
    "\n",
    "        analysis_data = {}\n",
    "        raw_data = data[best_knob] \n",
    "#         analysis_data[0] = raw_data[:sample_size] #  also: \n",
    "        analysis_data[0] = random.sample(raw_data, sample_size)\n",
    "  \n",
    "        raw_data = data[other_knob_value] \n",
    "#         analysis_data[1] = raw_data[:sample_size] #  also: \n",
    "        analysis_data[1] = random.sample(raw_data, sample_size)\n",
    "          \n",
    "        t = Ttest(fake_run_id, y_key, alpha).start(analysis_data, {})\n",
    "        pvalues[other_knob_value].append(t[\"pvalue\"])\n",
    "        one_sided_p_value = t[\"pvalue\"]/2\n",
    "        \n",
    "        if t[\"statistic\"] < 0:\n",
    "            t_p = TtestPower(fake_run_id, y_key, t[\"effect_size\"], alpha, 'smaller').start(analysis_data, {})            \n",
    "        else: \n",
    "            t_p = TtestPower(fake_run_id, y_key, t[\"effect_size\"], alpha, 'larger').start(analysis_data, {})            \n",
    "        powers[other_knob_value].append(t_p[\"power\"])\n",
    "        \n",
    "        if one_sided_p_value < alpha and t_p[\"power\"] >= necessary_power:\n",
    "            printmd(\"**SIGNIFICANT DIFFERENCE**\", \"green\")\n",
    "            different = \"smaller\" if t[\"statistic\"] < 0 else \"larger\"\n",
    "            print \"sample size: \" + str(sample_size) \n",
    "            print \"================\"\n",
    "            print \"Overhead in \" \n",
    "            pp.pprint(eval(best_knob))\n",
    "            print \" is \" + different + \" than in \"\n",
    "            pp.pprint(eval(other_knob_value))\n",
    "            print \"================\"\n",
    "            print \"mean difference: \" + str(t[\"mean_diff\"]) \n",
    "            print \"p value: \" + str(one_sided_p_value)                                 \n",
    "            print \"effect size: \" + str(t[\"effect_size\"]) \n",
    "            print \"power: \" + str(t_p[\"power\"])\n",
    "            print \"\\n\"\n",
    "            \n",
    "            count += 1\n",
    "            if t[\"statistic\"] >= 0:\n",
    "                best_knob = other_knob_value\n",
    "            break\n",
    "\n",
    "        if sample_size == 5000:\n",
    "            printmd(\"**NO SIGNIFICANT DIFFERENCE**\", \"red\")\n",
    "            different = \"smaller\" if t[\"statistic\"] < 0 else \"larger\"\n",
    "            print \"sample size: \" + str(sample_size) \n",
    "            print \"================\"\n",
    "            print \"Overhead in \" \n",
    "            pp.pprint(eval(best_knob))\n",
    "            print \" is \" + different + \" than in \"\n",
    "            pp.pprint(eval(other_knob_value))\n",
    "            print \"================\"\n",
    "            print \"mean difference: \" + str(t[\"mean_diff\"]) \n",
    "            print \"p value: \" + str(one_sided_p_value)                                 \n",
    "            print \"effect size: \" + str(t[\"effect_size\"]) \n",
    "            print \"power: \" + str(t_p[\"power\"])\n",
    "            print \"\\n\"\n",
    "        \n",
    "print str(count) + \" out of \" + str(len(other_knob_values)) + \" comparisons found significant diffference.\"\n",
    "print \"******************\"\n",
    "print \"BEST CONFIGURATION\"\n",
    "print \"******************\"\n",
    "pp.pprint(knobs[best_knob][0])\n"
   ]
  },
  {
   "cell_type": "code",
   "execution_count": 58,
   "metadata": {
    "collapsed": false
   },
   "outputs": [
    {
     "name": "stdout",
     "output_type": "stream",
     "text": [
      "data retrieved from file rtxgaussian-600-300-5-5000.pickle\n",
      "len(knobs):4\n",
      "{u'freshness_update_factor': 6, u'average_edge_duration_factor': 1.3437240401490982, u'exploration_percentage': 0.07526532486706616}\n",
      "5000\n",
      "{u'freshness_update_factor': 20, u'average_edge_duration_factor': 2.5, u'exploration_percentage': 0.3}\n",
      "5000\n",
      "{u'freshness_update_factor': 5, u'average_edge_duration_factor': 1.0, u'exploration_percentage': 0.3}\n",
      "5000\n",
      "{u'freshness_update_factor': 20, u'average_edge_duration_factor': 1.0, u'exploration_percentage': 0.0}\n",
      "5000\n",
      "=========\n"
     ]
    }
   ],
   "source": [
    "results = get_raw_data(\"rtxgaussian-600-300-5\", False, 5000)\n",
    "\n",
    "b_knobs = {}\n",
    "b_data = {}\n",
    "for r in results:\n",
    "    knob_str = str(r[1])\n",
    "    if not knob_str in b_knobs:        \n",
    "        b_knobs[knob_str] = []\n",
    "    if len(b_knobs[knob_str]) < 5000:\n",
    "        b_knobs[knob_str].append(r[1])\n",
    "    if not knob_str in b_data:        \n",
    "        b_data[knob_str] = []\n",
    "    if len(b_data[knob_str]) < 5000:\n",
    "        b_data[knob_str].append(r[0])\n",
    "\n",
    "print \"len(knobs):\" + str(len(b_knobs))\n",
    "\n",
    "for k in b_knobs:\n",
    "    print k\n",
    "    print len(b_knobs[k])\n",
    "\n",
    "print \"=========\""
   ]
  },
  {
   "cell_type": "code",
   "execution_count": 59,
   "metadata": {
    "collapsed": false
   },
   "outputs": [
    {
     "name": "stdout",
     "output_type": "stream",
     "text": [
      "len(knobs):5\n",
      "{u'freshness_update_factor': 6, u'average_edge_duration_factor': 1.3437240401490982, u'exploration_percentage': 0.07526532486706616}\n",
      "5000\n",
      "{u'freshness_update_factor': 20, u'average_edge_duration_factor': 2.5, u'exploration_percentage': 0.3}\n",
      "5000\n",
      "{u'freshness_update_factor': 5, u'average_edge_duration_factor': 1.0, u'exploration_percentage': 0.3}\n",
      "5000\n",
      "{u'freshness_update_factor': 20, u'average_edge_duration_factor': 1.0, u'exploration_percentage': 0.0}\n",
      "5000\n",
      "{u're_route_every_ticks': 10, u'freshness_cut_off_value': 632, u'max_speed_and_length_factor': 1.0, u'exploration_percentage': 0.15700023908873034, u'freshness_update_factor': 6, u'route_random_sigma': 0.2585412258729002, u'average_edge_duration_factor': 1.209267495740946}\n",
      "5000\n",
      "=========\n"
     ]
    }
   ],
   "source": [
    "b_knobs[best_knob] = knobs[best_knob]\n",
    "b_data[best_knob] = data[best_knob]\n",
    "\n",
    "print \"len(knobs):\" + str(len(b_knobs))\n",
    "\n",
    "for k in b_knobs:\n",
    "    print k\n",
    "    print len(b_knobs[k])\n",
    "\n",
    "print \"=========\""
   ]
  },
  {
   "cell_type": "code",
   "execution_count": 60,
   "metadata": {
    "collapsed": false
   },
   "outputs": [
    {
     "data": {
      "text/markdown": [
       "<span style='color:green'>**SIGNIFICANT DIFFERENCE**</span>"
      ],
      "text/plain": [
       "<IPython.core.display.Markdown object>"
      ]
     },
     "metadata": {},
     "output_type": "display_data"
    },
    {
     "name": "stdout",
     "output_type": "stream",
     "text": [
      "sample size: 3000\n",
      "================\n",
      "Overhead in \n",
      "{   u'average_edge_duration_factor': 1.0,\n",
      "    u'exploration_percentage': 0.0,\n",
      "    u'freshness_update_factor': 20}\n",
      " is smaller than in \n",
      "{   u'average_edge_duration_factor': 2.5,\n",
      "    u'exploration_percentage': 0.3,\n",
      "    u'freshness_update_factor': 20}\n",
      "================\n",
      "mean difference: -0.0518519875995\n",
      "p value: 0.00173138065698\n",
      "effect size: -0.0755236462339\n",
      "power: 0.899698363563\n",
      "\n",
      "\n"
     ]
    },
    {
     "data": {
      "text/markdown": [
       "<span style='color:red'>**NO SIGNIFICANT DIFFERENCE**</span>"
      ],
      "text/plain": [
       "<IPython.core.display.Markdown object>"
      ]
     },
     "metadata": {},
     "output_type": "display_data"
    },
    {
     "name": "stdout",
     "output_type": "stream",
     "text": [
      "sample size: 5000\n",
      "================\n",
      "Overhead in \n",
      "{   u'average_edge_duration_factor': 1.0,\n",
      "    u'exploration_percentage': 0.0,\n",
      "    u'freshness_update_factor': 20}\n",
      " is larger than in \n",
      "{   u'average_edge_duration_factor': 1.0,\n",
      "    u'exploration_percentage': 0.3,\n",
      "    u'freshness_update_factor': 5}\n",
      "================\n",
      "mean difference: 0.00292140888605\n",
      "p value: 0.429662074078\n",
      "effect size: 0.00354513819644\n",
      "power: 0.0711052705447\n",
      "\n",
      "\n"
     ]
    },
    {
     "data": {
      "text/markdown": [
       "<span style='color:green'>**SIGNIFICANT DIFFERENCE**</span>"
      ],
      "text/plain": [
       "<IPython.core.display.Markdown object>"
      ]
     },
     "metadata": {},
     "output_type": "display_data"
    },
    {
     "name": "stdout",
     "output_type": "stream",
     "text": [
      "sample size: 500\n",
      "================\n",
      "Overhead in \n",
      "{   u'average_edge_duration_factor': 1.0,\n",
      "    u'exploration_percentage': 0.0,\n",
      "    u'freshness_update_factor': 20}\n",
      " is larger than in \n",
      "{   u'average_edge_duration_factor': 1.3437240401490982,\n",
      "    u'exploration_percentage': 0.07526532486706616,\n",
      "    u'freshness_update_factor': 6}\n",
      "================\n",
      "mean difference: 0.162562136777\n",
      "p value: 0.000505569073868\n",
      "effect size: 0.208923767845\n",
      "power: 0.951167526059\n",
      "\n",
      "\n"
     ]
    },
    {
     "data": {
      "text/markdown": [
       "<span style='color:red'>**NO SIGNIFICANT DIFFERENCE**</span>"
      ],
      "text/plain": [
       "<IPython.core.display.Markdown object>"
      ]
     },
     "metadata": {},
     "output_type": "display_data"
    },
    {
     "name": "stdout",
     "output_type": "stream",
     "text": [
      "sample size: 5000\n",
      "================\n",
      "Overhead in \n",
      "{   u'average_edge_duration_factor': 1.3437240401490982,\n",
      "    u'exploration_percentage': 0.07526532486706616,\n",
      "    u'freshness_update_factor': 6}\n",
      " is larger than in \n",
      "{   u'average_edge_duration_factor': 1.209267495740946,\n",
      "    u'exploration_percentage': 0.15700023908873034,\n",
      "    u'freshness_cut_off_value': 632,\n",
      "    u'freshness_update_factor': 6,\n",
      "    u'max_speed_and_length_factor': 1.0,\n",
      "    u're_route_every_ticks': 10,\n",
      "    u'route_random_sigma': 0.2585412258729002}\n",
      "================\n",
      "mean difference: 0.00546462671283\n",
      "p value: 0.331932105035\n",
      "effect size: 0.00869281464662\n",
      "power: 0.113092965839\n",
      "\n",
      "\n",
      "2 out of 4 comparisons found significant difference.\n",
      "******************\n",
      "BEST CONFIGURATION\n",
      "******************\n",
      "{   u'average_edge_duration_factor': 1.3437240401490982,\n",
      "    u'exploration_percentage': 0.07526532486706616,\n",
      "    u'freshness_update_factor': 6}\n"
     ]
    }
   ],
   "source": [
    "y_key = 'overhead'\n",
    "alpha = 0.05\n",
    "necessary_power = 0.80\n",
    "\n",
    "fake_run_id = \"123456\"\n",
    "\n",
    "knob_values = sorted(b_knobs.keys())\n",
    "best_knob = knob_values[0]\n",
    "other_knob_values = knob_values[1:] \n",
    "\n",
    "sample_sizes = []\n",
    "pvalues = {}\n",
    "powers = {}\n",
    "\n",
    "for i in knob_values:\n",
    "    pvalues[i] = []\n",
    "    powers[i] = []\n",
    "        \n",
    "step = 100\n",
    "\n",
    "count = 0\n",
    "for other_knob_value in other_knob_values:   \n",
    "    for sample_size in range(100, 5001, step):\n",
    "    #     print \"Sample size: \" + str(sample_size)\n",
    "        sample_sizes.append(sample_size)\n",
    "\n",
    "        analysis_data = {}\n",
    "        raw_data = b_data[best_knob] \n",
    "#         analysis_data[0] = raw_data[:sample_size] #  also: \n",
    "        analysis_data[0] = random.sample(raw_data, sample_size)\n",
    "  \n",
    "        raw_data = b_data[other_knob_value] \n",
    "#         analysis_data[1] = raw_data[:sample_size] #  also: \n",
    "        analysis_data[1] = random.sample(raw_data, sample_size)\n",
    "          \n",
    "        t = Ttest(fake_run_id, y_key, alpha).start(analysis_data, {})\n",
    "        pvalues[other_knob_value].append(t[\"pvalue\"])\n",
    "        one_sided_p_value = t[\"pvalue\"]/2\n",
    "        \n",
    "        if t[\"statistic\"] < 0:\n",
    "            t_p = TtestPower(fake_run_id, y_key, t[\"effect_size\"], alpha, 'smaller').start(analysis_data, {})            \n",
    "        else: \n",
    "            t_p = TtestPower(fake_run_id, y_key, t[\"effect_size\"], alpha, 'larger').start(analysis_data, {})            \n",
    "        powers[other_knob_value].append(t_p[\"power\"])\n",
    "        \n",
    "        if one_sided_p_value < alpha and t_p[\"power\"] >= necessary_power:\n",
    "            printmd(\"**SIGNIFICANT DIFFERENCE**\", \"green\")\n",
    "            different = \"smaller\" if t[\"statistic\"] < 0 else \"larger\"\n",
    "            print \"sample size: \" + str(sample_size) \n",
    "            print \"================\"\n",
    "            print \"Overhead in \" \n",
    "            pp.pprint(eval(best_knob))\n",
    "            print \" is \" + different + \" than in \"\n",
    "            pp.pprint(eval(other_knob_value))\n",
    "            print \"================\"\n",
    "            print \"mean difference: \" + str(t[\"mean_diff\"]) \n",
    "            print \"p value: \" + str(one_sided_p_value)                                 \n",
    "            print \"effect size: \" + str(t[\"effect_size\"]) \n",
    "            print \"power: \" + str(t_p[\"power\"])\n",
    "            print \"\\n\"\n",
    "            \n",
    "            count += 1\n",
    "            if t[\"statistic\"] >= 0:\n",
    "                best_knob = other_knob_value\n",
    "            break\n",
    "        \n",
    "        if sample_size == 5000:\n",
    "            printmd(\"**NO SIGNIFICANT DIFFERENCE**\", \"red\")\n",
    "            different = \"smaller\" if t[\"statistic\"] < 0 else \"larger\"\n",
    "            print \"sample size: \" + str(sample_size) \n",
    "            print \"================\"\n",
    "            print \"Overhead in \" \n",
    "            pp.pprint(eval(best_knob))\n",
    "            print \" is \" + different + \" than in \"\n",
    "            pp.pprint(eval(other_knob_value))\n",
    "            print \"================\"\n",
    "            print \"mean difference: \" + str(t[\"mean_diff\"]) \n",
    "            print \"p value: \" + str(one_sided_p_value)                                 \n",
    "            print \"effect size: \" + str(t[\"effect_size\"]) \n",
    "            print \"power: \" + str(t_p[\"power\"])\n",
    "            print \"\\n\"\n",
    "\n",
    "print str(count) + \" out of \" + str(len(other_knob_values)) + \" comparisons found significant difference.\"\n",
    "print \"******************\"\n",
    "print \"BEST CONFIGURATION\"\n",
    "print \"******************\"\n",
    "pp.pprint(b_knobs[best_knob][0])"
   ]
  },
  {
   "cell_type": "code",
   "execution_count": null,
   "metadata": {
    "collapsed": true
   },
   "outputs": [],
   "source": []
  }
 ],
 "metadata": {
  "anaconda-cloud": {},
  "kernelspec": {
   "display_name": "Python [Root]",
   "language": "python",
   "name": "Python [Root]"
  },
  "language_info": {
   "codemirror_mode": {
    "name": "ipython",
    "version": 2
   },
   "file_extension": ".py",
   "mimetype": "text/x-python",
   "name": "python",
   "nbconvert_exporter": "python",
   "pygments_lexer": "ipython2",
   "version": "2.7.12"
  }
 },
 "nbformat": 4,
 "nbformat_minor": 0
}
