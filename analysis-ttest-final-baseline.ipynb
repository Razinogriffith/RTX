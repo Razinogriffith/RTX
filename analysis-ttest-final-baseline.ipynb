{
 "cells": [
  {
   "cell_type": "markdown",
   "metadata": {},
   "source": [
    "## Import data"
   ]
  },
  {
   "cell_type": "code",
   "execution_count": 4,
   "metadata": {
    "collapsed": false,
    "scrolled": true
   },
   "outputs": [
    {
     "name": "stdout",
     "output_type": "stream",
     "text": [
      "data retrieved from file rtxgaussian-600-300-baseline-4iter-2-5000.pickle\n"
     ]
    }
   ],
   "source": [
    "%matplotlib inline\n",
    "%reload_ext autoreload\n",
    "from rtxlib.rtx_run import setup_database, db\n",
    "from analysis_lib.one_sample_tests import KolmogorovSmirnov\n",
    "from factorial_anova_analysis import get_raw_data\n",
    "\n",
    "index = \"rtxgaussian-600-300-baseline-4iter-2\" \n",
    "\n",
    "results = get_raw_data(index, False, 5000)"
   ]
  },
  {
   "cell_type": "code",
   "execution_count": 5,
   "metadata": {
    "collapsed": false
   },
   "outputs": [
    {
     "data": {
      "text/markdown": [
       "<span style='color:green'>**Found 4 different configurations in 20000 data **</span>"
      ],
      "text/plain": [
       "<IPython.core.display.Markdown object>"
      ]
     },
     "metadata": {},
     "output_type": "display_data"
    },
    {
     "name": "stdout",
     "output_type": "stream",
     "text": [
      "5000 of these:\n",
      "{   u'average_edge_duration_factor': 2.5,\n",
      "    u'exploration_percentage': 0.3,\n",
      "    u'freshness_cut_off_value': 700,\n",
      "    u'freshness_update_factor': 20,\n",
      "    u'max_speed_and_length_factor': 1.0,\n",
      "    u're_route_every_ticks': 10,\n",
      "    u'route_random_sigma': 0.0}\n",
      "\n",
      "\n",
      "5000 of these:\n",
      "{   u'average_edge_duration_factor': 2.5,\n",
      "    u'exploration_percentage': 0.0,\n",
      "    u'freshness_cut_off_value': 100,\n",
      "    u'freshness_update_factor': 5,\n",
      "    u'max_speed_and_length_factor': 1.0,\n",
      "    u're_route_every_ticks': 10,\n",
      "    u'route_random_sigma': 0.3}\n",
      "\n",
      "\n",
      "5000 of these:\n",
      "{   u'average_edge_duration_factor': 2.5,\n",
      "    u'exploration_percentage': 0.3,\n",
      "    u'freshness_cut_off_value': 700,\n",
      "    u'freshness_update_factor': 20,\n",
      "    u'max_speed_and_length_factor': 1.0,\n",
      "    u're_route_every_ticks': 70,\n",
      "    u'route_random_sigma': 0.0}\n",
      "\n",
      "\n",
      "5000 of these:\n",
      "{   u'average_edge_duration_factor': 1.064940627681949,\n",
      "    u'exploration_percentage': 0.02028517375112562,\n",
      "    u'freshness_cut_off_value': 365,\n",
      "    u'freshness_update_factor': 8,\n",
      "    u'max_speed_and_length_factor': 2.029578786016287,\n",
      "    u're_route_every_ticks': 54,\n",
      "    u'route_random_sigma': 0.2760877094817076}\n",
      "\n",
      "\n"
     ]
    }
   ],
   "source": [
    "import pprint\n",
    "from IPython.display import Markdown, display\n",
    "\n",
    "def printmd(string, color=None):\n",
    "    colorstr = \"<span style='color:{}'>{}</span>\".format(color, string)\n",
    "    display(Markdown(colorstr))\n",
    "    \n",
    "pp = pprint.PrettyPrinter(indent=4)\n",
    "\n",
    "knobs = {}\n",
    "data = {}\n",
    "for r in results:\n",
    "    knob_str = str(r[1])\n",
    "    if not knob_str in knobs:        \n",
    "        knobs[knob_str] = []\n",
    "    if len(knobs[knob_str]) < 5000:\n",
    "        knobs[knob_str].append(r[1])\n",
    "    if not knob_str in data:        \n",
    "        data[knob_str] = []\n",
    "    if len(data[knob_str]) < 5000:\n",
    "        data[knob_str].append(r[0])\n",
    "\n",
    "printmd(\"**Found \" + str(len(knobs)) + \" different configurations in \" + str(len(results)) + \" data **\", \"green\")\n",
    "\n",
    "for k in knobs:\n",
    "    print str(len(knobs[k])) + \" of these:\"\n",
    "    pp.pprint(eval(k))\n",
    "    print \"\\n\""
   ]
  },
  {
   "cell_type": "markdown",
   "metadata": {},
   "source": [
    "## Ttests with variable sample sizes"
   ]
  },
  {
   "cell_type": "code",
   "execution_count": 6,
   "metadata": {
    "collapsed": false
   },
   "outputs": [
    {
     "data": {
      "text/markdown": [
       "<span style='color:green'>**SIGNIFICANT DIFFERENCE**</span>"
      ],
      "text/plain": [
       "<IPython.core.display.Markdown object>"
      ]
     },
     "metadata": {},
     "output_type": "display_data"
    },
    {
     "name": "stdout",
     "output_type": "stream",
     "text": [
      "sample size: 200\n",
      "================\n",
      "Overhead in \n",
      "{   u'average_edge_duration_factor': 2.5,\n",
      "    u'exploration_percentage': 0.3,\n",
      "    u'freshness_cut_off_value': 700,\n",
      "    u'freshness_update_factor': 20,\n",
      "    u'max_speed_and_length_factor': 1.0,\n",
      "    u're_route_every_ticks': 10,\n",
      "    u'route_random_sigma': 0.0}\n",
      " is smaller than in \n",
      "{   u'average_edge_duration_factor': 2.5,\n",
      "    u'exploration_percentage': 0.0,\n",
      "    u'freshness_cut_off_value': 100,\n",
      "    u'freshness_update_factor': 5,\n",
      "    u'max_speed_and_length_factor': 1.0,\n",
      "    u're_route_every_ticks': 10,\n",
      "    u'route_random_sigma': 0.3}\n",
      "================\n",
      "mean difference: -0.297789775606\n",
      "p value: 0.000189116599606\n",
      "effect size: -0.359496344142\n",
      "power: 0.97405165493\n",
      "\n",
      "\n"
     ]
    },
    {
     "data": {
      "text/markdown": [
       "<span style='color:red'>**NO SIGNIFICANT DIFFERENCE**</span>"
      ],
      "text/plain": [
       "<IPython.core.display.Markdown object>"
      ]
     },
     "metadata": {},
     "output_type": "display_data"
    },
    {
     "name": "stdout",
     "output_type": "stream",
     "text": [
      "sample size: 5000\n",
      "================\n",
      "Overhead in \n",
      "{   u'average_edge_duration_factor': 2.5,\n",
      "    u'exploration_percentage': 0.3,\n",
      "    u'freshness_cut_off_value': 700,\n",
      "    u'freshness_update_factor': 20,\n",
      "    u'max_speed_and_length_factor': 1.0,\n",
      "    u're_route_every_ticks': 10,\n",
      "    u'route_random_sigma': 0.0}\n",
      " is smaller than in \n",
      "{   u'average_edge_duration_factor': 2.5,\n",
      "    u'exploration_percentage': 0.3,\n",
      "    u'freshness_cut_off_value': 700,\n",
      "    u'freshness_update_factor': 20,\n",
      "    u'max_speed_and_length_factor': 1.0,\n",
      "    u're_route_every_ticks': 70,\n",
      "    u'route_random_sigma': 0.0}\n",
      "================\n",
      "mean difference: -0.00037433701129\n",
      "p value: 0.489600779365\n",
      "effect size: -0.000521463873783\n",
      "power: 0.0527470669566\n",
      "\n",
      "\n"
     ]
    },
    {
     "data": {
      "text/markdown": [
       "<span style='color:red'>**NO SIGNIFICANT DIFFERENCE**</span>"
      ],
      "text/plain": [
       "<IPython.core.display.Markdown object>"
      ]
     },
     "metadata": {},
     "output_type": "display_data"
    },
    {
     "name": "stdout",
     "output_type": "stream",
     "text": [
      "sample size: 5000\n",
      "================\n",
      "Overhead in \n",
      "{   u'average_edge_duration_factor': 2.5,\n",
      "    u'exploration_percentage': 0.3,\n",
      "    u'freshness_cut_off_value': 700,\n",
      "    u'freshness_update_factor': 20,\n",
      "    u'max_speed_and_length_factor': 1.0,\n",
      "    u're_route_every_ticks': 10,\n",
      "    u'route_random_sigma': 0.0}\n",
      " is smaller than in \n",
      "{   u'average_edge_duration_factor': 1.064940627681949,\n",
      "    u'exploration_percentage': 0.02028517375112562,\n",
      "    u'freshness_cut_off_value': 365,\n",
      "    u'freshness_update_factor': 8,\n",
      "    u'max_speed_and_length_factor': 2.029578786016287,\n",
      "    u're_route_every_ticks': 54,\n",
      "    u'route_random_sigma': 0.2760877094817076}\n",
      "================\n",
      "mean difference: -0.0162956535523\n",
      "p value: 0.15288510333\n",
      "effect size: -0.0204858800327\n",
      "power: 0.267421903053\n",
      "\n",
      "\n",
      "1 out of 3 comparisons found significant difference.\n",
      "******************\n",
      "BEST CONFIGURATION\n",
      "******************\n",
      "{   u'average_edge_duration_factor': 2.5,\n",
      "    u'exploration_percentage': 0.3,\n",
      "    u'freshness_cut_off_value': 700,\n",
      "    u'freshness_update_factor': 20,\n",
      "    u'max_speed_and_length_factor': 1.0,\n",
      "    u're_route_every_ticks': 10,\n",
      "    u'route_random_sigma': 0.0}\n"
     ]
    }
   ],
   "source": [
    "from analysis_lib.two_sample_tests import Ttest\n",
    "from analysis_lib.two_sample_tests import TtestPower\n",
    "from complaints_generator import generate_complaints\n",
    "from scipy.stats import binom_test\n",
    "import matplotlib as mpl\n",
    "import matplotlib.pyplot as plt\n",
    "mpl.rc(\"savefig\", dpi=150)\n",
    "import random \n",
    "from IPython.display import Markdown, display\n",
    "\n",
    "def printmd(string, color=None):\n",
    "    colorstr = \"<span style='color:{}'>{}</span>\".format(color, string)\n",
    "    display(Markdown(colorstr))\n",
    "    \n",
    "random.seed(123456)\n",
    "\n",
    "y_key = 'overhead'\n",
    "alpha = 0.05\n",
    "necessary_power = 0.80\n",
    "\n",
    "fake_run_id = \"123456\"\n",
    "\n",
    "knob_values = knobs.keys()\n",
    "best_knob = knob_values[0]\n",
    "other_knob_values = knob_values[1:] \n",
    "\n",
    "sample_sizes = []\n",
    "pvalues = {}\n",
    "powers = {}\n",
    "\n",
    "for i in knob_values:\n",
    "    pvalues[i] = []\n",
    "    powers[i] = []\n",
    "        \n",
    "step = 100\n",
    "\n",
    "count = 0\n",
    "for other_knob_value in other_knob_values:   \n",
    "    for sample_size in range(100, 5001, step):\n",
    "    #     print \"Sample size: \" + str(sample_size)\n",
    "        sample_sizes.append(sample_size)\n",
    "\n",
    "        analysis_data = {}\n",
    "        raw_data = data[best_knob] \n",
    "#         analysis_data[0] = raw_data[:sample_size] #  also: \n",
    "        analysis_data[0] = random.sample(raw_data, sample_size)\n",
    "  \n",
    "        raw_data = data[other_knob_value] \n",
    "#         analysis_data[1] = raw_data[:sample_size] #  also: \n",
    "        analysis_data[1] = random.sample(raw_data, sample_size)\n",
    "          \n",
    "        t = Ttest(fake_run_id, y_key, alpha).start(analysis_data, {})\n",
    "        pvalues[other_knob_value].append(t[\"pvalue\"])\n",
    "        one_sided_p_value = t[\"pvalue\"]/2\n",
    "        \n",
    "        if t[\"statistic\"] < 0:\n",
    "            t_p = TtestPower(fake_run_id, y_key, t[\"effect_size\"], alpha, 'smaller').start(analysis_data, {})            \n",
    "        else: \n",
    "            t_p = TtestPower(fake_run_id, y_key, t[\"effect_size\"], alpha, 'larger').start(analysis_data, {})            \n",
    "        powers[other_knob_value].append(t_p[\"power\"])\n",
    "        \n",
    "        if one_sided_p_value < alpha and t_p[\"power\"] >= necessary_power:\n",
    "            printmd(\"**SIGNIFICANT DIFFERENCE**\", \"green\")\n",
    "            different = \"smaller\" if t[\"statistic\"] < 0 else \"larger\"\n",
    "            print \"sample size: \" + str(sample_size) \n",
    "            print \"================\"\n",
    "            print \"Overhead in \" \n",
    "            pp.pprint(eval(best_knob))\n",
    "            print \" is \" + different + \" than in \"\n",
    "            pp.pprint(eval(other_knob_value))\n",
    "            print \"================\"\n",
    "            print \"mean difference: \" + str(t[\"mean_diff\"]) \n",
    "            print \"p value: \" + str(one_sided_p_value)                                 \n",
    "            print \"effect size: \" + str(t[\"effect_size\"]) \n",
    "            print \"power: \" + str(t_p[\"power\"])\n",
    "            print \"\\n\"\n",
    "            \n",
    "            count += 1\n",
    "            if t[\"statistic\"] >= 0:\n",
    "                best_knob = other_knob_value\n",
    "            break\n",
    "\n",
    "        if sample_size == 5000:\n",
    "            printmd(\"**NO SIGNIFICANT DIFFERENCE**\", \"red\")\n",
    "            different = \"smaller\" if t[\"statistic\"] < 0 else \"larger\"\n",
    "            print \"sample size: \" + str(sample_size) \n",
    "            print \"================\"\n",
    "            print \"Overhead in \" \n",
    "            pp.pprint(eval(best_knob))\n",
    "            print \" is \" + different + \" than in \"\n",
    "            pp.pprint(eval(other_knob_value))\n",
    "            print \"================\"\n",
    "            print \"mean difference: \" + str(t[\"mean_diff\"]) \n",
    "            print \"p value: \" + str(one_sided_p_value)                                 \n",
    "            print \"effect size: \" + str(t[\"effect_size\"]) \n",
    "            print \"power: \" + str(t_p[\"power\"])\n",
    "            print \"\\n\"\n",
    "        \n",
    "print str(count) + \" out of \" + str(len(other_knob_values)) + \" comparisons found significant difference.\"\n",
    "print \"******************\"\n",
    "print \"BEST CONFIGURATION\"\n",
    "print \"******************\"\n",
    "pp.pprint(knobs[best_knob][0])\n"
   ]
  },
  {
   "cell_type": "code",
   "execution_count": 7,
   "metadata": {
    "collapsed": false
   },
   "outputs": [
    {
     "name": "stdout",
     "output_type": "stream",
     "text": [
      "data retrieved from file rtxgaussian-600-300-2-5iter-5000.pickle\n",
      "len(knobs):2\n",
      "{u'freshness_cut_off_value': 700}\n",
      "5000\n",
      "{u'freshness_cut_off_value': 180}\n",
      "5000\n",
      "=========\n"
     ]
    }
   ],
   "source": [
    "results = get_raw_data(\"rtxgaussian-600-300-2-5iter\", False, 5000)\n",
    "\n",
    "b_knobs = {}\n",
    "b_data = {}\n",
    "for r in results:\n",
    "    knob_str = str(r[1])\n",
    "    if not knob_str in b_knobs:        \n",
    "        b_knobs[knob_str] = []\n",
    "    if len(b_knobs[knob_str]) < 5000:\n",
    "        b_knobs[knob_str].append(r[1])\n",
    "    if not knob_str in b_data:        \n",
    "        b_data[knob_str] = []\n",
    "    if len(b_data[knob_str]) < 5000:\n",
    "        b_data[knob_str].append(r[0])\n",
    "\n",
    "print \"len(knobs):\" + str(len(b_knobs))\n",
    "\n",
    "for k in b_knobs:\n",
    "    print k\n",
    "    print len(b_knobs[k])\n",
    "\n",
    "print \"=========\""
   ]
  },
  {
   "cell_type": "code",
   "execution_count": 8,
   "metadata": {
    "collapsed": false
   },
   "outputs": [
    {
     "name": "stdout",
     "output_type": "stream",
     "text": [
      "len(knobs):3\n",
      "{u're_route_every_ticks': 10, u'freshness_cut_off_value': 700, u'max_speed_and_length_factor': 1.0, u'exploration_percentage': 0.3, u'freshness_update_factor': 20, u'route_random_sigma': 0.0, u'average_edge_duration_factor': 2.5}\n",
      "5000\n",
      "{u'freshness_cut_off_value': 700}\n",
      "5000\n",
      "{u'freshness_cut_off_value': 180}\n",
      "5000\n",
      "=========\n"
     ]
    }
   ],
   "source": [
    "knobs2 = b_knobs.copy()\n",
    "data2 = b_data.copy()\n",
    "\n",
    "b_knobs[best_knob] = knobs[best_knob]\n",
    "b_data[best_knob] = data[best_knob]\n",
    "\n",
    "print \"len(knobs):\" + str(len(b_knobs))\n",
    "\n",
    "for k in b_knobs:\n",
    "    print k\n",
    "    print len(b_knobs[k])\n",
    "\n",
    "print \"=========\""
   ]
  },
  {
   "cell_type": "code",
   "execution_count": 10,
   "metadata": {
    "collapsed": false
   },
   "outputs": [
    {
     "data": {
      "text/markdown": [
       "<span style='color:green'>**SIGNIFICANT DIFFERENCE**</span>"
      ],
      "text/plain": [
       "<IPython.core.display.Markdown object>"
      ]
     },
     "metadata": {},
     "output_type": "display_data"
    },
    {
     "name": "stdout",
     "output_type": "stream",
     "text": [
      "sample size: 200\n",
      "================\n",
      "Overhead in \n",
      "{   u'average_edge_duration_factor': 2.5,\n",
      "    u'exploration_percentage': 0.3,\n",
      "    u'freshness_cut_off_value': 700,\n",
      "    u'freshness_update_factor': 20,\n",
      "    u'max_speed_and_length_factor': 1.0,\n",
      "    u're_route_every_ticks': 10,\n",
      "    u'route_random_sigma': 0.0}\n",
      " is larger than in \n",
      "{   u'freshness_cut_off_value': 700}\n",
      "================\n",
      "mean difference: 0.16232382824\n",
      "p value: 0.00403026805635\n",
      "effect size: 0.267051384572\n",
      "power: 0.846400495892\n",
      "\n",
      "\n"
     ]
    },
    {
     "data": {
      "text/markdown": [
       "<span style='color:green'>**SIGNIFICANT DIFFERENCE**</span>"
      ],
      "text/plain": [
       "<IPython.core.display.Markdown object>"
      ]
     },
     "metadata": {},
     "output_type": "display_data"
    },
    {
     "name": "stdout",
     "output_type": "stream",
     "text": [
      "sample size: 100\n",
      "================\n",
      "Overhead in \n",
      "{   u'freshness_cut_off_value': 700}\n",
      " is smaller than in \n",
      "{   u'freshness_cut_off_value': 180}\n",
      "================\n",
      "mean difference: -0.260931972605\n",
      "p value: 0.00597804286065\n",
      "effect size: -0.360578435318\n",
      "power: 0.814898768971\n",
      "\n",
      "\n",
      "2 out of 2 comparisons found significant difference.\n",
      "******************\n",
      "BEST CONFIGURATION\n",
      "******************\n",
      "{   u'freshness_cut_off_value': 700}\n"
     ]
    }
   ],
   "source": [
    "y_key = 'overhead'\n",
    "alpha = 0.05\n",
    "necessary_power = 0.80\n",
    "\n",
    "fake_run_id = \"123456\"\n",
    "\n",
    "knob_values = b_knobs.keys()\n",
    "best_knob2 = knob_values[0]\n",
    "other_knob_values = knob_values[1:] \n",
    "\n",
    "sample_sizes = []\n",
    "pvalues = {}\n",
    "powers = {}\n",
    "\n",
    "for i in knob_values:\n",
    "    pvalues[i] = []\n",
    "    powers[i] = []\n",
    "        \n",
    "step = 100\n",
    "\n",
    "count = 0\n",
    "for other_knob_value in other_knob_values:   \n",
    "    for sample_size in range(100, 5001, step):\n",
    "    #     print \"Sample size: \" + str(sample_size)\n",
    "        sample_sizes.append(sample_size)\n",
    "\n",
    "        analysis_data = {}\n",
    "        raw_data = b_data[best_knob2] \n",
    "#         analysis_data[0] = raw_data[:sample_size] #  also: \n",
    "        analysis_data[0] = random.sample(raw_data, sample_size)\n",
    "  \n",
    "        raw_data = b_data[other_knob_value] \n",
    "#         analysis_data[1] = raw_data[:sample_size] #  also: \n",
    "        analysis_data[1] = random.sample(raw_data, sample_size)\n",
    "          \n",
    "        t = Ttest(fake_run_id, y_key, alpha).start(analysis_data, {})\n",
    "        pvalues[other_knob_value].append(t[\"pvalue\"])\n",
    "        one_sided_p_value = t[\"pvalue\"]/2\n",
    "        \n",
    "        if t[\"statistic\"] < 0:\n",
    "            t_p = TtestPower(fake_run_id, y_key, t[\"effect_size\"], alpha, 'smaller').start(analysis_data, {})            \n",
    "        else: \n",
    "            t_p = TtestPower(fake_run_id, y_key, t[\"effect_size\"], alpha, 'larger').start(analysis_data, {})            \n",
    "        powers[other_knob_value].append(t_p[\"power\"])\n",
    "        \n",
    "        if one_sided_p_value < alpha and t_p[\"power\"] >= necessary_power:\n",
    "            printmd(\"**SIGNIFICANT DIFFERENCE**\", \"green\")\n",
    "            different = \"smaller\" if t[\"statistic\"] < 0 else \"larger\"\n",
    "            print \"sample size: \" + str(sample_size) \n",
    "            print \"================\"\n",
    "            print \"Overhead in \" \n",
    "            pp.pprint(eval(best_knob2))\n",
    "            print \" is \" + different + \" than in \"\n",
    "            pp.pprint(eval(other_knob_value))\n",
    "            print \"================\"\n",
    "            print \"mean difference: \" + str(t[\"mean_diff\"]) \n",
    "            print \"p value: \" + str(one_sided_p_value)                                 \n",
    "            print \"effect size: \" + str(t[\"effect_size\"]) \n",
    "            print \"power: \" + str(t_p[\"power\"])\n",
    "            print \"\\n\"\n",
    "            \n",
    "            count += 1\n",
    "            if t[\"statistic\"] >= 0:\n",
    "                best_knob2 = other_knob_value\n",
    "            break\n",
    "        \n",
    "        if sample_size == 5000:\n",
    "            printmd(\"**NO SIGNIFICANT DIFFERENCE**\", \"red\")\n",
    "            different = \"smaller\" if t[\"statistic\"] < 0 else \"larger\"\n",
    "            print \"sample size: \" + str(sample_size) \n",
    "            print \"================\"\n",
    "            print \"Overhead in \" \n",
    "            pp.pprint(eval(best_knob2))\n",
    "            print \" is \" + different + \" than in \"\n",
    "            pp.pprint(eval(other_knob_value))\n",
    "            print \"================\"\n",
    "            print \"mean difference: \" + str(t[\"mean_diff\"]) \n",
    "            print \"p value: \" + str(one_sided_p_value)                                 \n",
    "            print \"effect size: \" + str(t[\"effect_size\"]) \n",
    "            print \"power: \" + str(t_p[\"power\"])\n",
    "            print \"\\n\"\n",
    "\n",
    "print str(count) + \" out of \" + str(len(other_knob_values)) + \" comparisons found significant difference.\"\n",
    "print \"******************\"\n",
    "print \"BEST CONFIGURATION\"\n",
    "print \"******************\"\n",
    "pp.pprint(b_knobs[best_knob2][0])"
   ]
  },
  {
   "cell_type": "code",
   "execution_count": 11,
   "metadata": {
    "collapsed": false
   },
   "outputs": [
    {
     "name": "stdout",
     "output_type": "stream",
     "text": [
      "data retrieved from file rtxgaussian-600-300-1-5iter-5000.pickle\n",
      "len(knobs):2\n",
      "{u'max_speed_and_length_factor': 2.4999884040123677}\n",
      "5000\n",
      "{u'max_speed_and_length_factor': 1.0}\n",
      "5000\n",
      "=========\n"
     ]
    }
   ],
   "source": [
    "results = get_raw_data(\"rtxgaussian-600-300-1-5iter\", False, 5000)\n",
    "\n",
    "knobs1 = {}\n",
    "data1 = {}\n",
    "for r in results:\n",
    "    knob_str = str(r[1])\n",
    "    if not knob_str in knobs1:        \n",
    "        knobs1[knob_str] = []\n",
    "    if len(knobs1[knob_str]) < 5000:\n",
    "        knobs1[knob_str].append(r[1])\n",
    "    if not knob_str in data1:        \n",
    "        data1[knob_str] = []\n",
    "    if len(data1[knob_str]) < 5000:\n",
    "        data1[knob_str].append(r[0])\n",
    "\n",
    "print \"len(knobs):\" + str(len(knobs1))\n",
    "\n",
    "for k in knobs1:\n",
    "    print k\n",
    "    print len(knobs1[k])\n",
    "\n",
    "print \"=========\""
   ]
  },
  {
   "cell_type": "code",
   "execution_count": 12,
   "metadata": {
    "collapsed": false
   },
   "outputs": [
    {
     "name": "stdout",
     "output_type": "stream",
     "text": [
      "{u're_route_every_ticks': 10, u'freshness_cut_off_value': 700, u'max_speed_and_length_factor': 1.0, u'exploration_percentage': 0.3, u'freshness_update_factor': 20, u'route_random_sigma': 0.0, u'average_edge_duration_factor': 2.5}\n",
      "5000\n",
      "{u're_route_every_ticks': 10, u'freshness_cut_off_value': 100, u'max_speed_and_length_factor': 1.0, u'exploration_percentage': 0.0, u'freshness_update_factor': 5, u'route_random_sigma': 0.3, u'average_edge_duration_factor': 2.5}\n",
      "5000\n",
      "{u're_route_every_ticks': 70, u'freshness_cut_off_value': 700, u'max_speed_and_length_factor': 1.0, u'exploration_percentage': 0.3, u'freshness_update_factor': 20, u'route_random_sigma': 0.0, u'average_edge_duration_factor': 2.5}\n",
      "5000\n",
      "{u're_route_every_ticks': 54, u'freshness_cut_off_value': 365, u'max_speed_and_length_factor': 2.029578786016287, u'exploration_percentage': 0.02028517375112562, u'freshness_update_factor': 8, u'route_random_sigma': 0.2760877094817076, u'average_edge_duration_factor': 1.064940627681949}\n",
      "5000\n",
      "*************\n",
      "{u'max_speed_and_length_factor': 2.4999884040123677}\n",
      "5000\n",
      "{u'max_speed_and_length_factor': 1.0}\n",
      "5000\n",
      "{u'freshness_cut_off_value': 700}\n",
      "5000\n",
      "{u'freshness_cut_off_value': 180}\n",
      "5000\n"
     ]
    }
   ],
   "source": [
    "for k in knobs:\n",
    "    print k\n",
    "    print len(knobs[k])\n",
    "\n",
    "print \"*************\"\n",
    "\n",
    "for k in knobs1:\n",
    "    print k\n",
    "    print len(knobs1[k])\n",
    "\n",
    "for k in knobs2:\n",
    "    print k\n",
    "    print len(knobs2[k])"
   ]
  },
  {
   "cell_type": "code",
   "execution_count": 13,
   "metadata": {
    "collapsed": false
   },
   "outputs": [
    {
     "name": "stdout",
     "output_type": "stream",
     "text": [
      "0\n",
      "{u're_route_every_ticks': 10, u'freshness_cut_off_value': 700, u'max_speed_and_length_factor': 1.0, u'exploration_percentage': 0.3, u'freshness_update_factor': 20, u'route_random_sigma': 0.0, u'average_edge_duration_factor': 2.5}\n",
      "******\n",
      "1\n",
      "{u're_route_every_ticks': 10, u'freshness_cut_off_value': 100, u'max_speed_and_length_factor': 1.0, u'exploration_percentage': 0.0, u'freshness_update_factor': 5, u'route_random_sigma': 0.3, u'average_edge_duration_factor': 2.5}\n",
      "******\n",
      "2\n",
      "{u're_route_every_ticks': 70, u'freshness_cut_off_value': 700, u'max_speed_and_length_factor': 1.0, u'exploration_percentage': 0.3, u'freshness_update_factor': 20, u'route_random_sigma': 0.0, u'average_edge_duration_factor': 2.5}\n",
      "******\n",
      "3\n",
      "{u're_route_every_ticks': 54, u'freshness_cut_off_value': 365, u'max_speed_and_length_factor': 2.029578786016287, u'exploration_percentage': 0.02028517375112562, u'freshness_update_factor': 8, u'route_random_sigma': 0.2760877094817076, u'average_edge_duration_factor': 1.064940627681949}\n",
      "******\n"
     ]
    },
    {
     "data": {
      "image/png": "[encoded data removed]",
      "text/plain": [
       "<matplotlib.figure.Figure at 0x118750e90>"
      ]
     },
     "metadata": {},
     "output_type": "display_data"
    }
   ],
   "source": [
    "import matplotlib.pyplot as plt\n",
    "from numpy import var, std, mean, median\n",
    "import matplotlib as mpl\n",
    "mpl.rc(\"savefig\", dpi=150)\n",
    "\n",
    "y_key = 'overhead'\n",
    "\n",
    "means = []\n",
    "all_data = []\n",
    "\n",
    "knob_labels = []\n",
    "i = 0\n",
    "for k in knobs: \n",
    "    print i\n",
    "    print k\n",
    "    print \"******\"\n",
    "    knob_labels.append(i)\n",
    "    i += 1\n",
    "    \n",
    "# knob_labels = [i for i in range(len(knobs))]\n",
    "\n",
    "for k in knobs:\n",
    "    analysis_data = [r[y_key] for r in data[k]]\n",
    "    all_data.append(analysis_data)\n",
    "    means.append(mean(analysis_data))\n",
    "\n",
    "fig,ax = plt.subplots()\n",
    "ax.plot(knob_labels,means, \".\", label='mean', color=\"black\", linestyle=\":\")\n",
    "ax.boxplot(all_data, 0, '', positions=knob_labels)\n",
    "#     ax.boxplot(all_data, 0, '', positions=keys)\n",
    "plt.xticks(knob_labels, [\"conf 1\", \"conf 2\", \"conf 3\", \"conf 4\", \"conf 5\"])\n",
    "plt.legend(loc='lower center')\n",
    "plt.ylabel('overheads of trips')\n",
    "plt.xlabel('one-step gaussian optimization (5 iterations) - configurations')\n",
    "plt.show()"
   ]
  },
  {
   "cell_type": "code",
   "execution_count": 14,
   "metadata": {
    "collapsed": false
   },
   "outputs": [
    {
     "name": "stdout",
     "output_type": "stream",
     "text": [
      "0\n",
      "{u'max_speed_and_length_factor': 2.4999884040123677}\n",
      "******\n",
      "1\n",
      "{u'max_speed_and_length_factor': 1.0}\n",
      "******\n",
      "2\n",
      "{u'freshness_cut_off_value': 180}\n",
      "******\n",
      "3\n",
      "{u'freshness_cut_off_value': 700}\n",
      "******\n"
     ]
    },
    {
     "data": {
      "image/png": "[encoded data removed]",
      "text/plain": [
       "<matplotlib.figure.Figure at 0x11725fc10>"
      ]
     },
     "metadata": {},
     "output_type": "display_data"
    }
   ],
   "source": [
    "means2 = []\n",
    "all_data = []\n",
    "\n",
    "knob_labels = []\n",
    "i = 0\n",
    "for k in knobs1: \n",
    "    print i\n",
    "    print k\n",
    "    print \"******\"\n",
    "    knob_labels.append(i)\n",
    "    i += 1\n",
    "\n",
    "for k in sorted(knobs2): \n",
    "    print i\n",
    "    print k\n",
    "    print \"******\"\n",
    "    knob_labels.append(i)\n",
    "    i += 1\n",
    "\n",
    "# knob_labels = [i for i in range(len(knobs))]\n",
    "\n",
    "for k in knobs1:\n",
    "    analysis_data = [r[y_key] for r in data1[k]]\n",
    "    all_data.append(analysis_data)\n",
    "    means2.append(mean(analysis_data))\n",
    "\n",
    "for k in sorted(knobs2):\n",
    "    analysis_data = [r[y_key] for r in data2[k]]\n",
    "    all_data.append(analysis_data)\n",
    "    means2.append(mean(analysis_data))\n",
    "    \n",
    "fig,ax = plt.subplots()\n",
    "ax.plot(knob_labels,means2, \".\", label='mean', color=\"black\", linestyle=\":\")\n",
    "ax.boxplot(all_data, 0, '', positions=knob_labels)\n",
    "#     ax.boxplot(all_data, 0, '', positions=keys)\n",
    "plt.xticks(knob_labels, [\"iter 1 - conf 1\", \"iter 1 - conf 2\", \"iter 2 - conf 1\", \"iter 2 - conf 2\"])\n",
    "plt.legend(loc='lower center')\n",
    "plt.ylabel('overheads of trips')\n",
    "plt.xlabel('two-step gaussian optimization (2 iterations each) - configurations')\n",
    "plt.show()"
   ]
  },
  {
   "cell_type": "code",
   "execution_count": 15,
   "metadata": {
    "collapsed": false
   },
   "outputs": [
    {
     "name": "stdout",
     "output_type": "stream",
     "text": [
      "{u're_route_every_ticks': 10, u'freshness_cut_off_value': 700, u'max_speed_and_length_factor': 1.0, u'exploration_percentage': 0.3, u'freshness_update_factor': 20, u'route_random_sigma': 0.0, u'average_edge_duration_factor': 2.5}\n",
      "{u'freshness_cut_off_value': 700}\n"
     ]
    },
    {
     "name": "stderr",
     "output_type": "stream",
     "text": [
      "/Users/gerostat/anaconda/lib/python2.7/site-packages/matplotlib/axes/_axes.py:519: UserWarning: No labelled objects found. Use label='...' kwarg on individual plots.\n",
      "  warnings.warn(\"No labelled objects found. \"\n"
     ]
    },
    {
     "data": {
      "image/png": "[encoded data removed]",
      "text/plain": [
       "<matplotlib.figure.Figure at 0x1187506d0>"
      ]
     },
     "metadata": {},
     "output_type": "display_data"
    }
   ],
   "source": [
    "all_data = []\n",
    "print best_knob\n",
    "print best_knob2\n",
    "analysis_data = [r[y_key] for r in data[best_knob]]\n",
    "all_data.append(analysis_data)\n",
    "\n",
    "analysis_data = [r[y_key] for r in data2[best_knob2]]\n",
    "all_data.append(analysis_data)\n",
    "    \n",
    "knob_labels = [\"one-step\", \"two-step\"]\n",
    "arithmetic_labels = [0,1]\n",
    "fig,ax = plt.subplots()\n",
    "ax.boxplot(all_data, 0, '', positions=arithmetic_labels)\n",
    "#     ax.boxplot(all_data, 0, '', positions=keys)\n",
    "plt.xticks(arithmetic_labels, knob_labels)\n",
    "plt.legend(loc='best')\n",
    "plt.ylabel('overheads of trips')\n",
    "plt.xlabel('Gaussian-based optimizations')\n",
    "plt.show()"
   ]
  },
  {
   "cell_type": "code",
   "execution_count": 16,
   "metadata": {
    "collapsed": false
   },
   "outputs": [
    {
     "name": "stdout",
     "output_type": "stream",
     "text": [
      "[0, 1, 2, 3]\n"
     ]
    },
    {
     "data": {
      "image/png": "[encoded data removed]",
      "text/plain": [
       "<matplotlib.figure.Figure at 0x11b3ad710>"
      ]
     },
     "metadata": {},
     "output_type": "display_data"
    }
   ],
   "source": [
    "knob_labels = range(4)\n",
    "print knob_labels\n",
    "fig,ax = plt.subplots()\n",
    "ax.plot(knob_labels, means, \".\", label='gaussian, one-step', linestyle=\"--\")\n",
    "ax.plot(knob_labels, means2, \".\", label='gaussian, two-step', linestyle=\"-\")\n",
    "plt.xticks(knob_labels, [\"conf 1\", \"conf 2\", \"conf 3\", \"conf 4\"])\n",
    "plt.legend(loc='best')\n",
    "plt.ylabel('overheads of trips')\n",
    "plt.xlabel('Configurations')\n",
    "plt.show()"
   ]
  },
  {
   "cell_type": "code",
   "execution_count": null,
   "metadata": {
    "collapsed": true
   },
   "outputs": [],
   "source": []
  }
 ],
 "metadata": {
  "anaconda-cloud": {},
  "kernelspec": {
   "display_name": "Python [Root]",
   "language": "python",
   "name": "Python [Root]"
  },
  "language_info": {
   "codemirror_mode": {
    "name": "ipython",
    "version": 2
   },
   "file_extension": ".py",
   "mimetype": "text/x-python",
   "name": "python",
   "nbconvert_exporter": "python",
   "pygments_lexer": "ipython2",
   "version": "2.7.12"
  }
 },
 "nbformat": 4,
 "nbformat_minor": 0
}
