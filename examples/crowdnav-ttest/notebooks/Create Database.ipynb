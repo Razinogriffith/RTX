{
 "cells": [
  {
   "cell_type": "code",
   "execution_count": 1,
   "metadata": {
    "collapsed": true,
    "scrolled": true
   },
   "outputs": [],
   "source": [
    "import sqlite3"
   ]
  },
  {
   "cell_type": "code",
   "execution_count": 2,
   "metadata": {
    "collapsed": true
   },
   "outputs": [],
   "source": [
    "def create_connection(db_file = '../../../../../SavedExperiments.db'):\n",
    "    \"\"\" create a database connection to the SQLite database\n",
    "        specified by db_file\n",
    "    :param db_file: database file\n",
    "    :return: Connection object or None\n",
    "    \"\"\"\n",
    "    try:\n",
    "        conn = sqlite3.connect(db_file)\n",
    "        return conn\n",
    "    except Error as e:\n",
    "        print(e)\n",
    " \n",
    "    return None"
   ]
  },
  {
   "cell_type": "code",
   "execution_count": 3,
   "metadata": {
    "collapsed": true
   },
   "outputs": [],
   "source": [
    "def create_table(conn, create_table_sql):\n",
    "    \"\"\" create a table from the create_table_sql statement\n",
    "    :param conn: Connection object\n",
    "    :param create_table_sql: a CREATE TABLE statement\n",
    "    :return:\n",
    "    \"\"\"\n",
    "    try:\n",
    "        c = conn.cursor()\n",
    "        c.execute(create_table_sql)\n",
    "    except Error as e:\n",
    "        print(e)"
   ]
  },
  {
   "cell_type": "code",
   "execution_count": 4,
   "metadata": {
    "collapsed": true
   },
   "outputs": [],
   "source": [
    "def create_db(database):\n",
    "    \n",
    " \n",
    "    sql_create_experiment_table = \"\"\" CREATE TABLE IF NOT EXISTS experiments (\n",
    "                                        experiment_id               integer PRIMARY KEY AUTOINCREMENT,\n",
    "                                        workflow_id                 integer             NOT NULL,\n",
    "                                        knobs                       text                NOT NULL,\n",
    "                                        FOREIGN KEY (workflow_id) REFERENCES workflow (workflow_id)\n",
    "                                    ); \"\"\"\n",
    " \n",
    "    sql_create_result_table = \"\"\"CREATE TABLE IF NOT EXISTS result (\n",
    "                                    result_id                       integer PRIMARY KEY AUTOINCREMENT,\n",
    "                                    experiment_id                   integer             NOT NULL,\n",
    "                                    total_sample_size               integer,\n",
    "                                    total_x2                        double,\n",
    "                                    total_x                         double,\n",
    "                                    FOREIGN KEY (experiment_id) REFERENCES experiment (experiment_id)\n",
    "                                );\"\"\"\n",
    "    \n",
    "    sql_create_workflow_table = \"\"\"CREATE TABLE IF NOT EXISTS workflow (\n",
    "                                    workflow_id                     integer PRIMARY KEY AUTOINCREMENT,\n",
    "                                    name                            char(20)            NOT NULL,\n",
    "                                    metric                          char(20)            NOT NULL,\n",
    "                                    variance                        double\n",
    "                                );\"\"\"\n",
    " \n",
    "    # create a database connection\n",
    "    conn = create_connection(database)\n",
    "    if conn is not None:\n",
    "        # create results table\n",
    "        create_table(conn, sql_create_result_table)\n",
    "        # create experiments table\n",
    "        create_table(conn, sql_create_experiment_table)\n",
    "        # create config table\n",
    "        create_table(conn, sql_create_workflow_table)\n",
    "    else:\n",
    "        print(\"Error! cannot create the database connection.\")"
   ]
  },
  {
   "cell_type": "code",
   "execution_count": 5,
   "metadata": {
    "collapsed": false
   },
   "outputs": [],
   "source": [
    "database = '../../../../../SavedExperiments.db'\n",
    "create_db(database)"
   ]
  },
  {
   "cell_type": "code",
   "execution_count": 6,
   "metadata": {
    "collapsed": true
   },
   "outputs": [],
   "source": [
    "def insert_into_experiments(db,\n",
    "                            workflow_id, \n",
    "                            knobs):\n",
    "    conn = create_connection(db)\n",
    "    \n",
    "    conn.execute(\"INSERT INTO experiments (workflow_id, knobs) \\\n",
    "          VALUES ('\"+ str(workflow_id)+ \"','\"+ knobs+\"' )\");\n",
    "    conn.commit()\n",
    "    print( \"Experiment record created successfully\");\n",
    "    conn.close()\n",
    "    \n",
    "def insert_into_result(db,\n",
    "                        experiment_id,\n",
    "                        total_sample_size,\n",
    "                        total_x2,\n",
    "                        total_x  ):\n",
    "    \n",
    "    conn = create_connection(db)\n",
    "    \n",
    "    conn.execute(\"INSERT INTO result (experiment_id, total_sample_size, total_x2, total_x) \\\n",
    "          VALUES ('\"+ str(experiment_id)+ \"','\"+ str(total_sample_size)+\"','\" + str(total_x2)+ \"','\" + str(total_x)+ \"' )\");\n",
    "    conn.commit()\n",
    "    print( \"Result records created successfully\");\n",
    "    conn.close()\n",
    "def insert_into_workflow( db,\n",
    "                        name,\n",
    "                        metric,\n",
    "                        variance \n",
    "                       ):\n",
    "\n",
    "    conn = create_connection(db)\n",
    "\n",
    "    conn.execute(\"INSERT INTO workflow (name, metric, variance) \\\n",
    "          VALUES ('\"+ name+ \"','\"+ metric +\"','\"+ str(variance)+\"' )\");\n",
    "    conn.commit()\n",
    "    print( \"Workflow recods created successfully\");\n",
    "    conn.close()\n"
   ]
  },
  {
   "cell_type": "code",
   "execution_count": 7,
   "metadata": {
    "collapsed": false
   },
   "outputs": [
    {
     "name": "stdout",
     "output_type": "stream",
     "text": [
      "Experiment record created successfully\n"
     ]
    }
   ],
   "source": [
    "\n",
    "insert_into_experiments(database, 2, \"defpath\")\n"
   ]
  },
  {
   "cell_type": "code",
   "execution_count": null,
   "metadata": {
    "collapsed": true
   },
   "outputs": [],
   "source": []
  }
 ],
 "metadata": {
  "anaconda-cloud": {},
  "kernelspec": {
   "display_name": "Python [default]",
   "language": "python",
   "name": "python2"
  },
  "language_info": {
   "codemirror_mode": {
    "name": "ipython",
    "version": 2
   },
   "file_extension": ".py",
   "mimetype": "text/x-python",
   "name": "python",
   "nbconvert_exporter": "python",
   "pygments_lexer": "ipython2",
   "version": "2.7.12"
  }
 },
 "nbformat": 4,
 "nbformat_minor": 2
}
