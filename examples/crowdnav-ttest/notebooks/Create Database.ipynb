{
 "cells": [
  {
   "cell_type": "code",
   "execution_count": 1,
   "metadata": {
    "collapsed": true,
    "scrolled": true
   },
   "outputs": [],
   "source": [
    "import sqlite3"
   ]
  },
  {
   "cell_type": "code",
   "execution_count": 2,
   "metadata": {
    "collapsed": true
   },
   "outputs": [],
   "source": [
    "def create_connection(db_file = '../../../../../SavedExperiments.db'):\n",
    "    \"\"\" create a database connection to the SQLite database\n",
    "        specified by db_file\n",
    "    :param db_file: database file\n",
    "    :return: Connection object or None\n",
    "    \"\"\"\n",
    "    try:\n",
    "        conn = sqlite3.connect(db_file)\n",
    "        return conn\n",
    "    except Error as e:\n",
    "        print(e)\n",
    " \n",
    "    return None"
   ]
  },
  {
   "cell_type": "code",
   "execution_count": 3,
   "metadata": {
    "collapsed": true
   },
   "outputs": [],
   "source": [
    "def create_table(conn, create_table_sql):\n",
    "    \"\"\" create a table from the create_table_sql statement\n",
    "    :param conn: Connection object\n",
    "    :param create_table_sql: a CREATE TABLE statement\n",
    "    :return:\n",
    "    \"\"\"\n",
    "    try:\n",
    "        c = conn.cursor()\n",
    "        c.execute(create_table_sql)\n",
    "    except Error as e:\n",
    "        print(e)"
   ]
  },
  {
   "cell_type": "code",
   "execution_count": 8,
   "metadata": {
    "collapsed": true
   },
   "outputs": [],
   "source": [
    "def create_db(database):\n",
    "    \n",
    " \n",
    "    sql_create_experiment_table = \"\"\" CREATE TABLE IF NOT EXISTS experiments (\n",
    "                                        experiment_id               integer PRIMARY KEY AUTOINCREMENT,\n",
    "                                        workflow_id                 integer             NOT NULL,\n",
    "                                        knobs                       text                NOT NULL,\n",
    "                                        FOREIGN KEY (workflow_id) REFERENCES workflow (workflow_id)\n",
    "                                    ); \"\"\"\n",
    " \n",
    "    sql_create_result_table = \"\"\"CREATE TABLE IF NOT EXISTS results (\n",
    "                                    result_id                       integer PRIMARY KEY AUTOINCREMENT,\n",
    "                                    experiment_id                   integer             NOT NULL,\n",
    "                                    total_sample_size               integer,\n",
    "                                    total_x2                        double,\n",
    "                                    total_x                         double,\n",
    "                                    FOREIGN KEY (experiment_id) REFERENCES experiment (experiment_id)\n",
    "                                );\"\"\"\n",
    "    \n",
    "    sql_create_workflow_table = \"\"\"CREATE TABLE IF NOT EXISTS workflow (\n",
    "                                    workflow_id                     integer PRIMARY KEY AUTOINCREMENT,\n",
    "                                    name                            char(20)            NOT NULL,\n",
    "                                    metric                          char(20)            NOT NULL,\n",
    "                                    variance                        double\n",
    "                                );\"\"\"\n",
    " \n",
    "    # create a database connection\n",
    "    conn = create_connection(database)\n",
    "    if conn is not None:\n",
    "        # create results table\n",
    "        create_table(conn, sql_create_result_table)\n",
    "        # create experiments table\n",
    "        create_table(conn, sql_create_experiment_table)\n",
    "        # create config table\n",
    "        create_table(conn, sql_create_workflow_table)\n",
    "    else:\n",
    "        print(\"Error! cannot create the database connection.\")"
   ]
  },
  {
   "cell_type": "code",
   "execution_count": 9,
   "metadata": {
    "collapsed": false
   },
   "outputs": [],
   "source": [
    "database = '../../../../../SavedExperiments.db'\n",
    "create_db(database)"
   ]
  },
  {
   "cell_type": "code",
   "execution_count": 6,
   "metadata": {
    "collapsed": true
   },
   "outputs": [],
   "source": [
    "def insert_into_experiments(db,\n",
    "                            result_folder , \n",
    "                            sample_size_method, \n",
    "                            definition_file_path):\n",
    "    conn = create_connection(db)\n",
    "    \n",
    "    conn.execute(\"INSERT INTO experiments (results_path,sample_size_method,definition_file_path) \\\n",
    "          VALUES ('\"+ result_folder+ \"','\"+ sample_size_method+\"','\"+ definition_file_path+\"' )\");\n",
    "    conn.commit()\n",
    "    print( \"Records created successfully\");\n",
    "    conn.close()\n",
    "    \n",
    "def insert_into_results(db,\n",
    "                        results_path,\n",
    "                        metric,\n",
    "                        total_sample_size,\n",
    "                        total_x2 ,\n",
    "                        total_x ):\n",
    "    \n",
    "    conn = create_connection(db)\n",
    "    \n",
    "    conn.execute(\"INSERT INTO results (results_path,metric,total_sample_size, total_x2, total_x) \\\n",
    "          VALUES ('\"+ results_path+ \"','\"+ metric+\"','\"+ str(total_sample_size)+\"','\" + str(total_x2)+ \"','\" + str(total_x)+ \"' )\");\n",
    "    conn.commit()\n",
    "    print( \"Records created successfully\");\n",
    "    conn.close()\n",
    "def insert_into_config(db,\n",
    "                       path,\n",
    "                       experiment_id,\n",
    "                       execution_strategy,\n",
    "                       change_provider\n",
    "                       ):\n",
    "\n",
    "    conn = create_connection(db)\n",
    "\n",
    "    conn.execute(\"INSERT INTO config (path,experiment_id,execution_strategy, change_provider) \\\n",
    "          VALUES ('\"+ path+ \"','\"+ str(experiment_id) +\"','\"+ execution_strategy+\"','\"+ change_provider+\"' )\");\n",
    "    conn.commit()\n",
    "    print( \"Records created successfully\");\n",
    "    conn.close()\n"
   ]
  },
  {
   "cell_type": "code",
   "execution_count": 7,
   "metadata": {
    "collapsed": false
   },
   "outputs": [
    {
     "name": "stdout",
     "output_type": "stream",
     "text": [
      "Records created successfully\n",
      "Records created successfully\n"
     ]
    }
   ],
   "source": [
    "\n",
    "insert_into_experiments(database, \"results_path\", \"sampsize\", \"defpath\")\n",
    "# insert_into_results(database, \"results_path\", \"metric\", 2, 23.5 , 2.3)\n",
    "insert_into_config(database, \"path2\",  3, \"step\",\"step\")"
   ]
  },
  {
   "cell_type": "code",
   "execution_count": 91,
   "metadata": {
    "collapsed": true
   },
   "outputs": [],
   "source": [
    "database = '../../../../../SavedExperiments.db'\n",
    "conn = create_connection(database)\n",
    "\n",
    "a = conn.execute(\"SELECT experiment_id FROM config WHERE path = '\" + \"path\" +\"'\");\n"
   ]
  },
  {
   "cell_type": "code",
   "execution_count": 87,
   "metadata": {
    "collapsed": false
   },
   "outputs": [
    {
     "name": "stdout",
     "output_type": "stream",
     "text": [
      "2\n"
     ]
    }
   ],
   "source": [
    "for zs in a:\n",
    "    print(zs[0])"
   ]
  },
  {
   "cell_type": "code",
   "execution_count": 75,
   "metadata": {
    "collapsed": false
   },
   "outputs": [
    {
     "ename": "TypeError",
     "evalue": "'sqlite3.Cursor' object is not subscriptable",
     "output_type": "error",
     "traceback": [
      "\u001b[0;31m---------------------------------------------------------------------------\u001b[0m",
      "\u001b[0;31mTypeError\u001b[0m                                 Traceback (most recent call last)",
      "\u001b[0;32m<ipython-input-75-5ccf417d7af1>\u001b[0m in \u001b[0;36m<module>\u001b[0;34m()\u001b[0m\n\u001b[0;32m----> 1\u001b[0;31m \u001b[0ma\u001b[0m\u001b[0;34m[\u001b[0m\u001b[0;36m0\u001b[0m\u001b[0;34m]\u001b[0m\u001b[0;34m\u001b[0m\u001b[0m\n\u001b[0m",
      "\u001b[0;31mTypeError\u001b[0m: 'sqlite3.Cursor' object is not subscriptable"
     ]
    }
   ],
   "source": []
  },
  {
   "cell_type": "code",
   "execution_count": null,
   "metadata": {
    "collapsed": true
   },
   "outputs": [],
   "source": []
  }
 ],
 "metadata": {
  "anaconda-cloud": {},
  "kernelspec": {
   "display_name": "Python [default]",
   "language": "python",
   "name": "python2"
  },
  "language_info": {
   "codemirror_mode": {
    "name": "ipython",
    "version": 2
   },
   "file_extension": ".py",
   "mimetype": "text/x-python",
   "name": "python",
   "nbconvert_exporter": "python",
   "pygments_lexer": "ipython2",
   "version": "2.7.12"
  }
 },
 "nbformat": 4,
 "nbformat_minor": 2
}
